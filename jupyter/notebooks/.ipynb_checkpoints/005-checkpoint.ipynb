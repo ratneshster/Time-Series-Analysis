{
 "cells": [
  {
   "cell_type": "code",
   "execution_count": 1,
   "metadata": {
    "collapsed": true,
    "deletable": true,
    "editable": true
   },
   "outputs": [],
   "source": [
    "# Import dependencies\n",
    "import os, gdax, collections\n",
    "import numpy as np\n",
    "import pandas as pd\n",
    "import matplotlib.pyplot as plt\n",
    "from datetime import *\n",
    "import statsmodels.api as sm\n",
    "from itertools import izip, count"
   ]
  },
  {
   "cell_type": "code",
   "execution_count": 2,
   "metadata": {
    "collapsed": true,
    "deletable": true,
    "editable": true
   },
   "outputs": [],
   "source": [
    "# Public Client from GDAX Bitcoin Exchange\n",
    "public_client = gdax.PublicClient()"
   ]
  },
  {
   "cell_type": "code",
   "execution_count": 3,
   "metadata": {
    "collapsed": false,
    "deletable": true,
    "editable": true
   },
   "outputs": [],
   "source": [
    "# Get all products available\n",
    "products = pd.DataFrame(public_client.get_products())"
   ]
  },
  {
   "cell_type": "code",
   "execution_count": 4,
   "metadata": {
    "collapsed": false,
    "deletable": true,
    "editable": true
   },
   "outputs": [
    {
     "data": {
      "text/html": [
       "<div>\n",
       "<table border=\"1\" class=\"dataframe\">\n",
       "  <thead>\n",
       "    <tr style=\"text-align: right;\">\n",
       "      <th></th>\n",
       "      <th>base_currency</th>\n",
       "      <th>base_max_size</th>\n",
       "      <th>base_min_size</th>\n",
       "      <th>display_name</th>\n",
       "      <th>id</th>\n",
       "      <th>margin_enabled</th>\n",
       "      <th>quote_currency</th>\n",
       "      <th>quote_increment</th>\n",
       "    </tr>\n",
       "  </thead>\n",
       "  <tbody>\n",
       "    <tr>\n",
       "      <th>0</th>\n",
       "      <td>LTC</td>\n",
       "      <td>1000000</td>\n",
       "      <td>0.01</td>\n",
       "      <td>LTC/EUR</td>\n",
       "      <td>LTC-EUR</td>\n",
       "      <td>False</td>\n",
       "      <td>EUR</td>\n",
       "      <td>0.01</td>\n",
       "    </tr>\n",
       "    <tr>\n",
       "      <th>1</th>\n",
       "      <td>LTC</td>\n",
       "      <td>1000000</td>\n",
       "      <td>0.01</td>\n",
       "      <td>LTC/BTC</td>\n",
       "      <td>LTC-BTC</td>\n",
       "      <td>False</td>\n",
       "      <td>BTC</td>\n",
       "      <td>0.00001</td>\n",
       "    </tr>\n",
       "    <tr>\n",
       "      <th>2</th>\n",
       "      <td>LTC</td>\n",
       "      <td>1000000</td>\n",
       "      <td>0.01</td>\n",
       "      <td>LTC/USD</td>\n",
       "      <td>LTC-USD</td>\n",
       "      <td>False</td>\n",
       "      <td>USD</td>\n",
       "      <td>0.01</td>\n",
       "    </tr>\n",
       "    <tr>\n",
       "      <th>3</th>\n",
       "      <td>ETH</td>\n",
       "      <td>5000</td>\n",
       "      <td>0.01</td>\n",
       "      <td>ETH/USD</td>\n",
       "      <td>ETH-USD</td>\n",
       "      <td>False</td>\n",
       "      <td>USD</td>\n",
       "      <td>0.01</td>\n",
       "    </tr>\n",
       "    <tr>\n",
       "      <th>4</th>\n",
       "      <td>ETH</td>\n",
       "      <td>5000</td>\n",
       "      <td>0.01</td>\n",
       "      <td>ETH/EUR</td>\n",
       "      <td>ETH-EUR</td>\n",
       "      <td>False</td>\n",
       "      <td>EUR</td>\n",
       "      <td>0.01</td>\n",
       "    </tr>\n",
       "    <tr>\n",
       "      <th>5</th>\n",
       "      <td>ETH</td>\n",
       "      <td>5000</td>\n",
       "      <td>0.01</td>\n",
       "      <td>ETH/BTC</td>\n",
       "      <td>ETH-BTC</td>\n",
       "      <td>False</td>\n",
       "      <td>BTC</td>\n",
       "      <td>0.00001</td>\n",
       "    </tr>\n",
       "    <tr>\n",
       "      <th>6</th>\n",
       "      <td>BTC</td>\n",
       "      <td>250</td>\n",
       "      <td>0.01</td>\n",
       "      <td>BTC/USD</td>\n",
       "      <td>BTC-USD</td>\n",
       "      <td>False</td>\n",
       "      <td>USD</td>\n",
       "      <td>0.01</td>\n",
       "    </tr>\n",
       "    <tr>\n",
       "      <th>7</th>\n",
       "      <td>BTC</td>\n",
       "      <td>250</td>\n",
       "      <td>0.01</td>\n",
       "      <td>BTC/EUR</td>\n",
       "      <td>BTC-EUR</td>\n",
       "      <td>False</td>\n",
       "      <td>EUR</td>\n",
       "      <td>0.01</td>\n",
       "    </tr>\n",
       "    <tr>\n",
       "      <th>8</th>\n",
       "      <td>BTC</td>\n",
       "      <td>250</td>\n",
       "      <td>0.01</td>\n",
       "      <td>BTC/GBP</td>\n",
       "      <td>BTC-GBP</td>\n",
       "      <td>False</td>\n",
       "      <td>GBP</td>\n",
       "      <td>0.01</td>\n",
       "    </tr>\n",
       "  </tbody>\n",
       "</table>\n",
       "</div>"
      ],
      "text/plain": [
       "  base_currency base_max_size base_min_size display_name       id  \\\n",
       "0           LTC       1000000          0.01      LTC/EUR  LTC-EUR   \n",
       "1           LTC       1000000          0.01      LTC/BTC  LTC-BTC   \n",
       "2           LTC       1000000          0.01      LTC/USD  LTC-USD   \n",
       "3           ETH          5000          0.01      ETH/USD  ETH-USD   \n",
       "4           ETH          5000          0.01      ETH/EUR  ETH-EUR   \n",
       "5           ETH          5000          0.01      ETH/BTC  ETH-BTC   \n",
       "6           BTC           250          0.01      BTC/USD  BTC-USD   \n",
       "7           BTC           250          0.01      BTC/EUR  BTC-EUR   \n",
       "8           BTC           250          0.01      BTC/GBP  BTC-GBP   \n",
       "\n",
       "  margin_enabled quote_currency quote_increment  \n",
       "0          False            EUR            0.01  \n",
       "1          False            BTC         0.00001  \n",
       "2          False            USD            0.01  \n",
       "3          False            USD            0.01  \n",
       "4          False            EUR            0.01  \n",
       "5          False            BTC         0.00001  \n",
       "6          False            USD            0.01  \n",
       "7          False            EUR            0.01  \n",
       "8          False            GBP            0.01  "
      ]
     },
     "execution_count": 4,
     "metadata": {},
     "output_type": "execute_result"
    }
   ],
   "source": [
    "# Display product list\n",
    "products"
   ]
  },
  {
   "cell_type": "code",
   "execution_count": 5,
   "metadata": {
    "collapsed": false,
    "deletable": true,
    "editable": true
   },
   "outputs": [],
   "source": [
    "# Function to get the intraday data from GDAX\n",
    "def get_intraday_rates(product_id):\n",
    "    data = public_client.get_product_historic_rates(product_id)\n",
    "    df = pd.DataFrame(data)\n",
    "    df = df.rename(index=str, columns={0: 'time', 1: 'low', 2:'high', 3: 'open', 4:'close', 5: 'volume'})\n",
    "    df['time'] = pd.to_datetime(df['time'],unit='s').dt.time\n",
    "    df=df.set_index('time')\n",
    "    return df.sort_index()"
   ]
  },
  {
   "cell_type": "code",
   "execution_count": 6,
   "metadata": {
    "collapsed": false,
    "deletable": true,
    "editable": true
   },
   "outputs": [],
   "source": [
    "# Lets get two cryptocurrency data in the product list above, LTC-EUR and ETH-EUR\n",
    "ltc = get_intraday_rates(products.id[0])\n",
    "eth = get_intraday_rates(products.id[4])"
   ]
  },
  {
   "cell_type": "code",
   "execution_count": 46,
   "metadata": {
    "collapsed": false,
    "deletable": true,
    "editable": true
   },
   "outputs": [],
   "source": [
    "eth['mean'] = (eth['low']+eth['high'])/2 "
   ]
  },
  {
   "cell_type": "code",
   "execution_count": 47,
   "metadata": {
    "collapsed": false,
    "deletable": true,
    "editable": true
   },
   "outputs": [
    {
     "data": {
      "text/plain": [
       "109"
      ]
     },
     "execution_count": 47,
     "metadata": {},
     "output_type": "execute_result"
    }
   ],
   "source": [
    "len(eth)"
   ]
  },
  {
   "cell_type": "code",
   "execution_count": 48,
   "metadata": {
    "collapsed": false,
    "deletable": true,
    "editable": true
   },
   "outputs": [],
   "source": [
    "# Moving average\n",
    "def moving_average(data, window_size):\n",
    "    # data: Independent variable\n",
    "    window = np.ones(int(window_size))/float(window_size)\n",
    "    return np.convolve(data, window, 'same')\n",
    "\n",
    "# Anomaly Detection\n",
    "def anomaly_detection(y, window_size, sigma=1.0):\n",
    "    # y needs to be a Pandas.Series or DataFrame with an independent value \n",
    "    # window_size is integer, the rolling window size\n",
    "    avg = moving_average(y, window_size).tolist()\n",
    "    residual = y - avg\n",
    "    # Calculate the variation in the distribution of the residual\n",
    "    std = np.std(residual)\n",
    "    return pd.DataFrame.from_dict({'standard_deviation': round(std, 3),\n",
    "            'anomalies_dict': collections.OrderedDict([(index, y_i) for\n",
    "                                                       index, y_i, avg_i in izip(count(), y, avg)\n",
    "              if (y_i > avg_i + (sigma*std)) | (y_i < avg_i - (sigma*std))])})"
   ]
  },
  {
   "cell_type": "code",
   "execution_count": 49,
   "metadata": {
    "collapsed": false,
    "deletable": true,
    "editable": true
   },
   "outputs": [],
   "source": [
    "j=anomaly_detection(eth['volume'],5)"
   ]
  },
  {
   "cell_type": "code",
   "execution_count": 50,
   "metadata": {
    "collapsed": false,
    "deletable": true,
    "editable": true
   },
   "outputs": [
    {
     "data": {
      "image/png": "[encoded data removed]",
      "text/plain": [
       "<matplotlib.figure.Figure at 0x7ff5355df5d0>"
      ]
     },
     "metadata": {},
     "output_type": "display_data"
    }
   ],
   "source": [
    "eth['volume'].plot()\n",
    "j['anomalies_dict'].plot()\n",
    "plt.show()"
   ]
  },
  {
   "cell_type": "code",
   "execution_count": 51,
   "metadata": {
    "collapsed": false,
    "deletable": true,
    "editable": true
   },
   "outputs": [
    {
     "data": {
      "text/html": [
       "<div>\n",
       "<table border=\"1\" class=\"dataframe\">\n",
       "  <thead>\n",
       "    <tr style=\"text-align: right;\">\n",
       "      <th></th>\n",
       "      <th>anomalies_dict</th>\n",
       "      <th>standard_deviation</th>\n",
       "    </tr>\n",
       "  </thead>\n",
       "  <tbody>\n",
       "    <tr>\n",
       "      <th>3</th>\n",
       "      <td>77.307248</td>\n",
       "      <td>17.806</td>\n",
       "    </tr>\n",
       "    <tr>\n",
       "      <th>4</th>\n",
       "      <td>0.247882</td>\n",
       "      <td>17.806</td>\n",
       "    </tr>\n",
       "    <tr>\n",
       "      <th>23</th>\n",
       "      <td>1.470000</td>\n",
       "      <td>17.806</td>\n",
       "    </tr>\n",
       "    <tr>\n",
       "      <th>24</th>\n",
       "      <td>87.958144</td>\n",
       "      <td>17.806</td>\n",
       "    </tr>\n",
       "    <tr>\n",
       "      <th>26</th>\n",
       "      <td>0.165500</td>\n",
       "      <td>17.806</td>\n",
       "    </tr>\n",
       "    <tr>\n",
       "      <th>27</th>\n",
       "      <td>0.512303</td>\n",
       "      <td>17.806</td>\n",
       "    </tr>\n",
       "    <tr>\n",
       "      <th>29</th>\n",
       "      <td>84.685289</td>\n",
       "      <td>17.806</td>\n",
       "    </tr>\n",
       "    <tr>\n",
       "      <th>30</th>\n",
       "      <td>5.867914</td>\n",
       "      <td>17.806</td>\n",
       "    </tr>\n",
       "    <tr>\n",
       "      <th>38</th>\n",
       "      <td>1.001418</td>\n",
       "      <td>17.806</td>\n",
       "    </tr>\n",
       "    <tr>\n",
       "      <th>39</th>\n",
       "      <td>39.962336</td>\n",
       "      <td>17.806</td>\n",
       "    </tr>\n",
       "    <tr>\n",
       "      <th>51</th>\n",
       "      <td>82.844590</td>\n",
       "      <td>17.806</td>\n",
       "    </tr>\n",
       "    <tr>\n",
       "      <th>52</th>\n",
       "      <td>15.897417</td>\n",
       "      <td>17.806</td>\n",
       "    </tr>\n",
       "    <tr>\n",
       "      <th>53</th>\n",
       "      <td>0.782358</td>\n",
       "      <td>17.806</td>\n",
       "    </tr>\n",
       "    <tr>\n",
       "      <th>58</th>\n",
       "      <td>4.286997</td>\n",
       "      <td>17.806</td>\n",
       "    </tr>\n",
       "    <tr>\n",
       "      <th>59</th>\n",
       "      <td>73.829812</td>\n",
       "      <td>17.806</td>\n",
       "    </tr>\n",
       "    <tr>\n",
       "      <th>61</th>\n",
       "      <td>0.360008</td>\n",
       "      <td>17.806</td>\n",
       "    </tr>\n",
       "    <tr>\n",
       "      <th>74</th>\n",
       "      <td>94.692834</td>\n",
       "      <td>17.806</td>\n",
       "    </tr>\n",
       "    <tr>\n",
       "      <th>75</th>\n",
       "      <td>10.052703</td>\n",
       "      <td>17.806</td>\n",
       "    </tr>\n",
       "    <tr>\n",
       "      <th>76</th>\n",
       "      <td>10.000000</td>\n",
       "      <td>17.806</td>\n",
       "    </tr>\n",
       "    <tr>\n",
       "      <th>77</th>\n",
       "      <td>48.835996</td>\n",
       "      <td>17.806</td>\n",
       "    </tr>\n",
       "    <tr>\n",
       "      <th>95</th>\n",
       "      <td>51.029498</td>\n",
       "      <td>17.806</td>\n",
       "    </tr>\n",
       "  </tbody>\n",
       "</table>\n",
       "</div>"
      ],
      "text/plain": [
       "    anomalies_dict  standard_deviation\n",
       "3        77.307248              17.806\n",
       "4         0.247882              17.806\n",
       "23        1.470000              17.806\n",
       "24       87.958144              17.806\n",
       "26        0.165500              17.806\n",
       "27        0.512303              17.806\n",
       "29       84.685289              17.806\n",
       "30        5.867914              17.806\n",
       "38        1.001418              17.806\n",
       "39       39.962336              17.806\n",
       "51       82.844590              17.806\n",
       "52       15.897417              17.806\n",
       "53        0.782358              17.806\n",
       "58        4.286997              17.806\n",
       "59       73.829812              17.806\n",
       "61        0.360008              17.806\n",
       "74       94.692834              17.806\n",
       "75       10.052703              17.806\n",
       "76       10.000000              17.806\n",
       "77       48.835996              17.806\n",
       "95       51.029498              17.806"
      ]
     },
     "execution_count": 51,
     "metadata": {},
     "output_type": "execute_result"
    }
   ],
   "source": [
    "j"
   ]
  },
  {
   "cell_type": "code",
   "execution_count": 52,
   "metadata": {
    "collapsed": false,
    "deletable": true,
    "editable": true
   },
   "outputs": [
    {
     "data": {
      "text/plain": [
       "[[1509961680, 6435, 6439.03, 6438.99, 6435.52, 4.3307467],\n",
       " [1509961620, 6438.13, 6439, 6439, 6439, 1.1329422000000002],\n",
       " [1509961560, 6434.32, 6439, 6437.48, 6438.11, 2.8783619999999996],\n",
       " [1509961500, 6430.99, 6437.49, 6431, 6437.49, 1.39396885],\n",
       " [1509961440, 6430.4, 6431, 6430.41, 6431, 1.0320806599999999],\n",
       " [1509961380, 6424.01, 6432.36, 6431.27, 6430.41, 2.09880452],\n",
       " [1509961320, 6424, 6435.8, 6424.39, 6424, 6.727037849999996],\n",
       " [1509961260, 6421.28, 6430.21, 6426.41, 6424.86, 4.2072813600000005],\n",
       " [1509961200, 6417, 6434.61, 6424.17, 6425.96, 8.948922239999995],\n",
       " [1509961140, 6420.61, 6428.63, 6425.94, 6424.78, 1.9389881500000001],\n",
       " [1509961080, 6420, 6434.64, 6434.64, 6427.41, 4.101656039999998],\n",
       " [1509961020, 6420.11, 6434.64, 6420.63, 6434.64, 3.54434009],\n",
       " [1509960960, 6420.01, 6435.81, 6425.41, 6424.7, 8.046246229999998],\n",
       " [1509960900, 6408.11, 6430, 6413.11, 6429.99, 8.131345449999998],\n",
       " [1509960840, 6404.79, 6413.57, 6413.56, 6413.11, 1.4897802100000004],\n",
       " [1509960780, 6401.1, 6415, 6401.72, 6401.14, 11.150741329999997],\n",
       " [1509960720, 6401.73, 6417.53, 6417.53, 6404.99, 2.364716729999999],\n",
       " [1509960660, 6410, 6417.64, 6417.64, 6417.63, 4.417374269999999],\n",
       " [1509960600, 6417.64, 6420.01, 6420.01, 6417.64, 1.9177452600000005],\n",
       " [1509960540, 6420, 6430.01, 6430.01, 6420.01, 3.351426339999999],\n",
       " [1509960480, 6430, 6430.01, 6430.01, 6430.01, 0.39704567],\n",
       " [1509960420, 6430, 6435.01, 6435.01, 6430.01, 3.59374874],\n",
       " [1509960360, 6435, 6435.01, 6435.01, 6435.01, 1.2077378],\n",
       " [1509960300, 6435, 6435.02, 6435.02, 6435.01, 0.22253925000000002],\n",
       " [1509960240, 6435.13, 6439.1, 6439.1, 6435.13, 2.0351869899999997],\n",
       " [1509960180, 6439.09, 6439.1, 6439.1, 6439.09, 3.610903699999999],\n",
       " [1509960120, 6439.09, 6439.1, 6439.1, 6439.1, 1.1400000000000001],\n",
       " [1509960060, 6439.09, 6439.1, 6439.1, 6439.1, 2.64998411],\n",
       " [1509960000, 6439.1, 6439.1, 6439.1, 6439.1, 0.5474569600000001],\n",
       " [1509959940, 6439.1, 6439.1, 6439.1, 6439.1, 0.59],\n",
       " [1509959880, 6439.09, 6439.1, 6439.1, 6439.1, 4.00867709],\n",
       " [1509959820, 6439.09, 6439.1, 6439.1, 6439.1, 0.45999999999999996],\n",
       " [1509959760, 6439.09, 6439.1, 6439.1, 6439.1, 1.6044400000000003],\n",
       " [1509959700, 6439.01, 6439.1, 6439.01, 6439.1, 3.749999999999999],\n",
       " [1509959640, 6439, 6439.1, 6439.09, 6439.01, 2.62131631],\n",
       " [1509959580, 6439.07, 6439.1, 6439.08, 6439.1, 3.0399999999999996],\n",
       " [1509959520, 6438.76, 6439.1, 6439.08, 6438.92, 1.7500000000000002],\n",
       " [1509959460, 6439, 6441.97, 6439, 6439.1, 6.364903869999999],\n",
       " [1509959400, 6438.99, 6441.16, 6441.16, 6439, 1.22],\n",
       " [1509959340, 6437.12, 6442.56, 6437.12, 6442.47, 2.02],\n",
       " [1509959280, 6439.05, 6456.1, 6456.1, 6439.07, 5.322413030000001],\n",
       " [1509959220, 6448.51, 6453.56, 6449.8, 6453.56, 3.321115909999999],\n",
       " [1509959160, 6439.99, 6450, 6440, 6449.99, 1.5705065500000002],\n",
       " [1509959100, 6425.52, 6436.1, 6426.37, 6436.1, 1.7203264300000003],\n",
       " [1509959040, 6421.04, 6434.99, 6434.58, 6426.37, 6.789708299999998],\n",
       " [1509958980, 6430.39, 6440.93, 6431.37, 6434.81, 0.8400000000000001],\n",
       " [1509958920, 6430, 6456.49, 6456.45, 6443.22, 7.405351209999999],\n",
       " [1509958860, 6456.45, 6457.67, 6457.58, 6456.49, 2.06514147],\n",
       " [1509958800, 6456.44, 6464.73, 6461.71, 6457.59, 3.21015441],\n",
       " [1509958740, 6456.44, 6461.73, 6460, 6461.71, 2.19908867],\n",
       " [1509958680, 6463.24, 6464.73, 6464.72, 6463.25, 4.010991109999999],\n",
       " [1509958620, 6464.71, 6464.73, 6464.72, 6464.72, 3.1387302600000004],\n",
       " [1509958560, 6464.71, 6464.72, 6464.72, 6464.72, 0.47899565],\n",
       " [1509958500, 6464.71, 6464.73, 6464.73, 6464.72, 0.77760881],\n",
       " [1509958440, 6464.72, 6480, 6475.11, 6464.73, 3.6310459299999995],\n",
       " [1509958380, 6456.44, 6475.11, 6456.85, 6475.11, 4.349999999999999],\n",
       " [1509958320, 6459.63, 6468.53, 6468.53, 6460.14, 2.481939039999999],\n",
       " [1509958260, 6457.99, 6480, 6457.99, 6480, 7.728457539999993],\n",
       " [1509958200, 6455.41, 6480.01, 6480.01, 6460.3, 6.042788949999998],\n",
       " [1509958140, 6480.01, 6480.02, 6480.02, 6480.01, 1.74],\n",
       " [1509958080, 6480.02, 6491.68, 6480.02, 6480.06, 2.9773803499999993],\n",
       " [1509958020, 6480.01, 6486.71, 6486.71, 6480.02, 0.9806420000000001],\n",
       " [1509957960, 6486.7, 6486.99, 6486.72, 6486.71, 1.2798638],\n",
       " [1509957900, 6465.93, 6486.72, 6465.93, 6482.67, 8.258434029999998],\n",
       " [1509957840, 6465.92, 6465.93, 6465.93, 6465.93, 5.17492094],\n",
       " [1509957780, 6465.92, 6465.93, 6465.93, 6465.93, 2.8200000000000003],\n",
       " [1509957720, 6461.35, 6465.93, 6461.36, 6465.93, 4.085184959999999],\n",
       " [1509957660, 6461.01, 6461.36, 6461.36, 6461.36, 1.49094815],\n",
       " [1509957600, 6461.3, 6461.36, 6461.3, 6461.36, 3.1509481299999997],\n",
       " [1509957540, 6461.3, 6461.36, 6461.36, 6461.3, 2.07876045],\n",
       " [1509957480, 6461.02, 6465.93, 6465.93, 6461.36, 3.5727774500000002],\n",
       " [1509957420, 6463.01, 6468.18, 6463.37, 6465.93, 3.8348748499999994],\n",
       " [1509957360, 6461, 6468.21, 6467.88, 6463.04, 2.890120459999999],\n",
       " [1509957300, 6457.01, 6467.94, 6459.6, 6467.91, 4.046048019999999],\n",
       " [1509957240, 6459.25, 6469.18, 6469.18, 6459.6, 2.7899794799999995],\n",
       " [1509957180, 6459.25, 6469.2, 6460.06, 6469.2, 10.822126049999998],\n",
       " [1509957120, 6455.11, 6468.13, 6459.42, 6460.01, 10.532836840000003],\n",
       " [1509957060, 6456.92, 6463.26, 6456.92, 6459.97, 4.1316817499999985],\n",
       " [1509957000, 6442.9, 6456.93, 6442.9, 6456.93, 7.365008019999999],\n",
       " [1509956940, 6437.03, 6442.9, 6437.03, 6442.9, 3.191333079999999],\n",
       " [1509956880, 6435.2, 6441.4, 6435.97, 6437.03, 2.00124646],\n",
       " [1509956820, 6435.2, 6435.97, 6435.95, 6435.2, 0.49805076000000004],\n",
       " [1509956760, 6432.44, 6436.15, 6432.44, 6435.2, 3.5318863899999995],\n",
       " [1509956700, 6428.68, 6438.99, 6428.68, 6433.18, 4.068764379999999],\n",
       " [1509956640, 6424.29, 6430.51, 6425, 6426.56, 2.9456924599999983],\n",
       " [1509956580, 6424.12, 6425, 6424.15, 6424.28, 1.5958452500000002],\n",
       " [1509956520, 6423, 6424.15, 6423.54, 6424.15, 3.4502176799999997],\n",
       " [1509956460, 6421.04, 6423.97, 6421.81, 6423.54, 0.72269687],\n",
       " [1509956400, 6421, 6421.81, 6421.06, 6421.56, 1.9367696499999998],\n",
       " [1509956340, 6421, 6424, 6422, 6421.81, 2.9499668499999983],\n",
       " [1509956280, 6421.04, 6423.99, 6422.24, 6422.17, 1.8843703000000003],\n",
       " [1509956220, 6420.58, 6423.99, 6420.58, 6422.78, 2.717365170000001],\n",
       " [1509956160, 6411.1, 6420.81, 6411.13, 6420.58, 1.8667567800000004],\n",
       " [1509956100, 6403.43, 6418.4, 6403.43, 6418.4, 3.4418183199999994],\n",
       " [1509956040, 6401.12, 6414.99, 6401.13, 6412.48, 4.951594120000001],\n",
       " [1509955980, 6400.39, 6404, 6400.39, 6401.13, 0.6200000000000001],\n",
       " [1509955920, 6400.38, 6400.39, 6400.39, 6400.39, 1.9824184200000001],\n",
       " [1509955860, 6399.14, 6414.99, 6400, 6400.39, 2.5955739600000003],\n",
       " [1509955800, 6399.68, 6400, 6400, 6400, 3.1799999999999997],\n",
       " [1509955740, 6399.99, 6400, 6399.99, 6400, 4.370004669999998],\n",
       " [1509955680, 6399.98, 6399.99, 6399.99, 6399.99, 3.207581769999999],\n",
       " [1509955620, 6399.99, 6400, 6400, 6399.99, 10.409093],\n",
       " [1509955560, 6400, 6400, 6400, 6400, 2.28],\n",
       " [1509955500, 6399.94, 6400, 6399.94, 6400, 1.135],\n",
       " [1509955440, 6392.87, 6399.95, 6398.39, 6399.95, 1.6866142100000006],\n",
       " [1509955380, 6392.28, 6398.4, 6393, 6398.4, 1.57],\n",
       " [1509955320, 6392, 6393, 6392.06, 6392.95, 2.38900976],\n",
       " [1509955260, 6392.01, 6393.92, 6392.01, 6393.43, 1.6799932800000001],\n",
       " [1509955200, 6392.01, 6398.62, 6398.62, 6392.01, 2.61],\n",
       " [1509955140, 6383.85, 6398.97, 6384.25, 6398.97, 4.339546469999998],\n",
       " [1509955080, 6383.8, 6384.43, 6384.42, 6384.43, 0.6457823900000002],\n",
       " [1509955020, 6380.74, 6385.86, 6385.86, 6381.45, 0.43052175000000004],\n",
       " [1509954960, 6380.39, 6385.86, 6380.39, 6385.86, 1.7650000000000001],\n",
       " [1509954900, 6385.74, 6385.76, 6385.76, 6385.74, 0.40261283999999997],\n",
       " [1509954840, 6385.76, 6385.86, 6385.76, 6385.85, 1.3400000000000003],\n",
       " [1509954780, 6385.85, 6385.86, 6385.86, 6385.85, 4.281377329999999],\n",
       " [1509954720, 6385.86, 6385.86, 6385.86, 6385.86, 0.63062481],\n",
       " [1509954660, 6383.21, 6396, 6383.21, 6385.86, 2.577329569999998],\n",
       " [1509954600, 6379.02, 6388.08, 6388.08, 6388.02, 2.2542101499999987],\n",
       " [1509954540, 6377.68, 6397, 6377.68, 6388.06, 8.639776329999998],\n",
       " [1509954480, 6376.9, 6377.54, 6376.91, 6377.54, 1.86],\n",
       " [1509954420, 6370.05, 6398.35, 6370.08, 6376.91, 4.740963949999999],\n",
       " [1509954360, 6366.13, 6380, 6370.23, 6376.94, 3.65],\n",
       " [1509954300, 6358.39, 6366.12, 6359.81, 6366.1, 0.7501517600000002],\n",
       " [1509954240, 6350, 6367.8, 6350, 6359.69, 1.5700000000000003],\n",
       " [1509954180, 6349.99, 6350, 6350, 6350, 1.4465399400000003],\n",
       " [1509954120, 6349.67, 6350, 6349.99, 6350, 2.56969688],\n",
       " [1509954060, 6349.99, 6349.99, 6349.99, 6349.99, 2.31],\n",
       " [1509954000, 6349.99, 6349.99, 6349.99, 6349.99, 1.99424986],\n",
       " [1509953940, 6349.99, 6350, 6350, 6349.99, 6.914600129999999],\n",
       " [1509953880, 6347.37, 6350, 6347.38, 6350, 4.222717449999998],\n",
       " [1509953820, 6347.37, 6347.38, 6347.37, 6347.38, 4.280658489999998],\n",
       " [1509953760, 6347.37, 6347.38, 6347.37, 6347.38, 3.44030925],\n",
       " [1509953700, 6345.09, 6350.97, 6347.42, 6347.38, 5.147418279999999],\n",
       " [1509953640, 6342.05, 6350.68, 6347.1, 6348.97, 0.62076079],\n",
       " [1509953580, 6347.08, 6352.51, 6352.51, 6350.96, 4.2738984],\n",
       " [1509953520, 6352.51, 6369.37, 6369.37, 6352.51, 2.857830489999999],\n",
       " [1509953460, 6350.64, 6370.14, 6370.13, 6369.37, 2.9015315399999984],\n",
       " [1509953400, 6370.01, 6380, 6375.02, 6370.01, 1.33068757],\n",
       " [1509953340, 6375, 6380.75, 6380.74, 6375, 4.719316809999999],\n",
       " [1509953280, 6380.74, 6380.77, 6380.76, 6380.74, 1.9125565600000003],\n",
       " [1509953220, 6380.75, 6380.77, 6380.77, 6380.77, 2.48374395],\n",
       " [1509953160, 6380.76, 6380.77, 6380.76, 6380.77, 4.58],\n",
       " [1509953100, 6380.76, 6380.77, 6380.77, 6380.76, 2.6568970599999995],\n",
       " [1509953040, 6380.76, 6380.77, 6380.77, 6380.77, 0.55092501],\n",
       " [1509952980, 6380.76, 6390.73, 6385.27, 6380.76, 3.9069539199999994],\n",
       " [1509952920, 6381.05, 6390.73, 6383.37, 6388.38, 2.4290778],\n",
       " [1509952860, 6380.57, 6390, 6380.99, 6390, 1.7525550200000002],\n",
       " [1509952800, 6380.55, 6389.99, 6383.12, 6389.99, 5.026764489999998],\n",
       " [1509952740, 6380.5, 6390.73, 6390.72, 6380.5, 1.6358040000000005],\n",
       " [1509952680, 6380.71, 6393.52, 6390.73, 6390.72, 5.4624786599999995],\n",
       " [1509952620, 6390.52, 6397, 6394.98, 6394.1, 1.75],\n",
       " [1509952560, 6384.86, 6394.98, 6384.86, 6394.98, 3.1272333299999997],\n",
       " [1509952500, 6384.86, 6384.86, 6384.86, 6384.86, 2.0999999999999996],\n",
       " [1509952440, 6384.79, 6384.86, 6384.79, 6384.86, 1.62],\n",
       " [1509952380, 6380.46, 6384.86, 6380.47, 6383.16, 2.9050338899999995],\n",
       " [1509952320, 6380.47, 6380.47, 6380.47, 6380.47, 3.3499999999999996],\n",
       " [1509952260, 6380.46, 6380.47, 6380.47, 6380.47, 3.7239412599999993],\n",
       " [1509952200, 6380, 6384.86, 6384.84, 6380.47, 6.897951429999998],\n",
       " [1509952140, 6380.02, 6384.86, 6380.02, 6384.64, 0.76078115],\n",
       " [1509952080, 6380.01, 6383, 6380.01, 6380.22, 0.24361632000000005],\n",
       " [1509952020, 6380, 6380.01, 6380.01, 6380, 0.25],\n",
       " [1509951960, 6380.01, 6383.23, 6383.23, 6380.01, 0.26],\n",
       " [1509951900, 6383.22, 6384.01, 6384.01, 6383.23, 0.22000000000000003],\n",
       " [1509951840, 6384, 6384.87, 6384.87, 6384, 1.8936295600000002],\n",
       " [1509951780, 6384.86, 6384.88, 6384.88, 6384.87, 0.34562296],\n",
       " [1509951720, 6384.88, 6384.88, 6384.88, 6384.88, 0.18737813],\n",
       " [1509951660, 6384.88, 6384.88, 6384.88, 6384.88, 0.1],\n",
       " [1509951600, 6384.88, 6384.88, 6384.88, 6384.88, 0.39],\n",
       " [1509951540, 6384.87, 6384.88, 6384.88, 6384.88, 3.3169012399999995],\n",
       " [1509951480, 6384.87, 6384.88, 6384.88, 6384.87, 0.36000000000000004],\n",
       " [1509951420, 6384.88, 6385.04, 6384.88, 6384.88, 1.8583593599999997],\n",
       " [1509951360, 6384.88, 6385.33, 6385.22, 6384.89, 0.34],\n",
       " [1509951300, 6388, 6397, 6397, 6388, 5.534352010000001],\n",
       " [1509951240, 6397, 6397, 6397, 6397, 0.13],\n",
       " [1509951180, 6397.39, 6397.4, 6397.39, 6397.4, 0.02],\n",
       " [1509951120, 6397.4, 6397.4, 6397.4, 6397.4, 0.2],\n",
       " [1509951060, 6397.4, 6398.62, 6398.62, 6397.4, 0.21],\n",
       " [1509951000, 6398.24, 6398.69, 6398.69, 6398.24, 0.15],\n",
       " [1509950940, 6396.98, 6398.52, 6397.91, 6397.41, 0.795],\n",
       " [1509950880, 6384.86, 6399, 6398.99, 6398.35, 4.25086224],\n",
       " [1509950820, 6391.76, 6395.23, 6391.76, 6395.21, 0.64288976],\n",
       " [1509950760, 6390.93, 6391.76, 6391.76, 6391.76, 0.26],\n",
       " [1509950700, 6385, 6392.01, 6392.01, 6391.76, 0.16999999999999998],\n",
       " [1509950640, 6377.61, 6397.71, 6397.71, 6392.86, 2.8800000000000003],\n",
       " [1509950580, 6397.71, 6398, 6397.71, 6398, 0.24000000000000005],\n",
       " [1509950520, 6397.77, 6398.92, 6398.68, 6397.77, 0.35523675],\n",
       " [1509950460, 6397.06, 6399.11, 6399.11, 6397.06, 1.37581624],\n",
       " [1509950400, 6399.11, 6399.11, 6399.11, 6399.11, 0.26],\n",
       " [1509950340, 6399.1, 6399.11, 6399.11, 6399.1, 0.8880000000000001],\n",
       " [1509950280, 6395, 6399.12, 6395, 6399.11, 7.821093879999999],\n",
       " [1509950220, 6393.55, 6394.52, 6393.55, 6394.52, 0.15900865000000003],\n",
       " [1509950160, 6393, 6393.55, 6393.55, 6393.55, 0.21],\n",
       " [1509950100, 6388.42, 6392.79, 6389.64, 6392.79, 0.51],\n",
       " [1509950040, 6385.09, 6395, 6395, 6390.48, 0.6757622700000002],\n",
       " [1509949980, 6395, 6398.22, 6397.17, 6395, 0.92347139],\n",
       " [1509949920, 6395.01, 6398.92, 6395.01, 6397.17, 1.3990791100000002],\n",
       " [1509949860, 6395.01, 6398.92, 6397.71, 6395.27, 1.31041969],\n",
       " [1509949800, 6397.72, 6398.91, 6397.72, 6398.91, 1.35],\n",
       " [1509949740, 6397.71, 6407.35, 6397.72, 6397.72, 1.79959822],\n",
       " [1509949680, 6384.99, 6399.35, 6385, 6397.72, 0.5100000000000001],\n",
       " [1509949620, 6378.55, 6381.81, 6378.55, 6381.81, 0.7665524100000001],\n",
       " [1509949560, 6369.45, 6378.55, 6374.83, 6378.55, 0.34120164],\n",
       " [1509949500, 6374.71, 6386.5, 6386.48, 6383.99, 0.46727707999999996],\n",
       " [1509949440, 6374.72, 6395, 6395, 6374.72, 0.55972004],\n",
       " [1509949380, 6395, 6395.53, 6395.53, 6395.26, 3.0887499299999996],\n",
       " [1509949320, 6398.92, 6400.07, 6400.07, 6398.92, 0.528224],\n",
       " [1509949260, 6399.01, 6399.6, 6399.6, 6399.6, 0.71],\n",
       " [1509949200, 6399.6, 6399.6, 6399.6, 6399.6, 0.01],\n",
       " [1509949140, 6399, 6399.6, 6399.6, 6399.6, 0.19000000000000003],\n",
       " [1509949080, 6399.59, 6399.59, 6399.59, 6399.59, 0.13],\n",
       " [1509949020, 6399.59, 6399.6, 6399.6, 6399.59, 0.22311],\n",
       " [1509948960, 6399.6, 6399.79, 6399.79, 6399.6, 0.19],\n",
       " [1509948900, 6399.87, 6407.86, 6405.8, 6399.87, 1.4431918400000001],\n",
       " [1509948840, 6405.79, 6421.98, 6405.81, 6405.8, 1.44185219],\n",
       " [1509948780, 6405.8, 6408.12, 6405.81, 6405.81, 0.6067242300000001],\n",
       " [1509948720, 6399.71, 6408.12, 6399.71, 6405.81, 0.6926799400000001],\n",
       " [1509948660, 6390, 6399.65, 6390, 6396.44, 0.8597891400000001],\n",
       " [1509948600, 6385.77, 6389.69, 6385.78, 6389.69, 0.17801769],\n",
       " [1509948540, 6375.35, 6408.12, 6384.18, 6385.78, 2.2652308900000007],\n",
       " [1509948480, 6377.52, 6395.55, 6380.15, 6388.19, 0.64412314],\n",
       " [1509948420, 6369.01, 6391, 6369.01, 6391, 0.35],\n",
       " [1509948360, 6360.61, 6380.15, 6360.61, 6369.01, 0.3270997],\n",
       " [1509948300, 6372.81, 6375.74, 6372.98, 6374.99, 1.30768762],\n",
       " [1509948240, 6372.38, 6372.97, 6372.38, 6372.97, 0.12],\n",
       " [1509948180, 6368.34, 6372.38, 6368.34, 6372.38, 0.2],\n",
       " [1509948120, 6360.2, 6369.23, 6363.64, 6369.23, 1.4564445500000005],\n",
       " [1509948060, 6361.3, 6369.23, 6369.23, 6361.3, 0.78],\n",
       " [1509948000, 6372, 6373.56, 6373.56, 6372, 0.24156537],\n",
       " [1509947940, 6373.57, 6389.93, 6389.93, 6373.57, 0.03],\n",
       " [1509947880, 6389.96, 6394, 6394, 6389.97, 2.13325087],\n",
       " [1509947820, 6378.12, 6394.99, 6383.78, 6390.78, 1.7024655500000003],\n",
       " [1509947760, 6372.69, 6390.8, 6375.51, 6390.8, 3.379129609999999],\n",
       " [1509947700, 6364.77, 6378.9, 6364.77, 6378.9, 3.5767891899999995],\n",
       " [1509947640, 6360.76, 6379.2, 6360.76, 6364.02, 2.11041361],\n",
       " [1509947580, 6349.99, 6379.79, 6349.99, 6365.45, 8.018653359999997],\n",
       " [1509947520, 6331.01, 6350, 6331.01, 6350, 2.05727708],\n",
       " [1509947460, 6331, 6331.01, 6331.01, 6331.01, 0.04255049],\n",
       " [1509947400, 6331, 6331.01, 6331.01, 6331, 1.71145202],\n",
       " [1509947340, 6331, 6331.01, 6331.01, 6331.01, 0.7976512200000001],\n",
       " [1509947280, 6331, 6331.01, 6331.01, 6331.01, 1.6400000000000001],\n",
       " [1509947220, 6331, 6331.01, 6331.01, 6331.01, 1.9576054900000002],\n",
       " [1509947160, 6331, 6331.01, 6331.01, 6331.01, 0.12000000000000001],\n",
       " [1509947100, 6331.01, 6331.01, 6331.01, 6331.01, 0.18000000000000002],\n",
       " [1509947040, 6331.01, 6331.01, 6331.01, 6331.01, 0.8556677199999999],\n",
       " [1509946980, 6331.01, 6331.01, 6331.01, 6331.01, 0.17255049],\n",
       " [1509946920, 6329.39, 6331.02, 6331.02, 6331.01, 2.7609670699999995],\n",
       " [1509946860, 6325.62, 6337.42, 6325.62, 6328.24, 2.5000000000000004],\n",
       " [1509946800, 6323.92, 6333.43, 6323.92, 6333.43, 2.00154663],\n",
       " [1509946740, 6318.36, 6323.79, 6318.36, 6323.79, 0.21],\n",
       " [1509946680, 6312.45, 6318.36, 6312.45, 6318.36, 0.22999999999999998],\n",
       " [1509946620, 6305.4, 6318.35, 6305.44, 6305.4, 1.94004886],\n",
       " [1509946560, 6305.44, 6307.12, 6307.12, 6305.44, 0.19999999999999998],\n",
       " [1509946500, 6290.87, 6308.48, 6290.88, 6294.66, 0.7540962400000001],\n",
       " [1509946440, 6290, 6308.48, 6290, 6308.48, 3.3060954799999998],\n",
       " [1509946380, 6289.47, 6290, 6290, 6290, 0.38000000000000006],\n",
       " [1509946320, 6289.99, 6290, 6290, 6290, 0.30311201000000004],\n",
       " [1509946260, 6290, 6290, 6290, 6290, 0.08],\n",
       " [1509946200, 6290, 6290, 6290, 6290, 0.6824379300000001],\n",
       " [1509946140, 6289.99, 6290, 6289.99, 6290, 0.74],\n",
       " [1509946080, 6289.99, 6290, 6290, 6290, 1.62],\n",
       " [1509946020, 6289.83, 6290, 6289.83, 6290, 1.48],\n",
       " [1509945960, 6289.84, 6289.84, 6289.84, 6289.84, 0.01],\n",
       " [1509945900, 6289.47, 6289.47, 6289.47, 6289.47, 0.07],\n",
       " [1509945840, 6289.56, 6289.84, 6289.84, 6289.56, 0.38],\n",
       " [1509945780, 6275.05, 6289.88, 6289.62, 6289.84, 0.89860155],\n",
       " [1509945720, 6275.01, 6290, 6283.03, 6275.01, 1.57548552],\n",
       " [1509945660, 6289.98, 6290, 6290, 6289.99, 0.34585862],\n",
       " [1509945600, 6290, 6290, 6290, 6290, 0.06999999999999999],\n",
       " [1509945540, 6289.99, 6290, 6289.99, 6290, 0.4],\n",
       " [1509945480, 6289.8, 6290, 6289.99, 6290, 2.14885338],\n",
       " [1509945420, 6245.14, 6290, 6290, 6289.88, 6.175390219999998],\n",
       " [1509945360, 6289.99, 6290, 6289.99, 6290, 0.05415106],\n",
       " [1509945300, 6290, 6290, 6290, 6290, 0.03],\n",
       " [1509945240, 6290, 6290, 6290, 6290, 1.97],\n",
       " [1509945180, 6290, 6290, 6290, 6290, 0.42000000000000004],\n",
       " [1509945120, 6289.99, 6289.99, 6289.99, 6289.99, 0.17585725],\n",
       " [1509945060, 6277.15, 6290, 6290, 6289.99, 1.5363265700000004],\n",
       " [1509945000, 6267.89, 6290, 6289.76, 6290, 1.5739565200000003],\n",
       " [1509944940, 6266.31, 6290.01, 6290, 6289.77, 1.3102],\n",
       " [1509944880, 6265.01, 6294.3, 6287.58, 6293.81, 2.148116339999999],\n",
       " [1509944820, 6261.01, 6291.44, 6291.44, 6261.02, 0.39],\n",
       " [1509944760, 6261.5, 6261.5, 6261.5, 6261.5, 0.11],\n",
       " [1509944700, 6257.6, 6294.98, 6257.6, 6261.57, 0.9421887499999999],\n",
       " [1509944640, 6255.04, 6257.6, 6255.04, 6257.59, 6.53],\n",
       " [1509944580, 6252.68, 6255.03, 6252.68, 6255.03, 1.2300000000000002],\n",
       " [1509944520, 6253.03, 6253.15, 6253.15, 6253.03, 0.15180055999999997],\n",
       " [1509944460, 6225.45, 6252.72, 6252.5, 6251.14, 0.6497862600000001],\n",
       " [1509944400, 6233.8, 6235.3, 6233.84, 6234.89, 1.06159131],\n",
       " [1509944340, 6230.37, 6235.6, 6232.86, 6235.59, 0.12],\n",
       " [1509944280, 6205, 6235.6, 6235.6, 6235.32, 4.190636209999998],\n",
       " [1509944220, 6236.54, 6239.29, 6239.29, 6236.54, 0.09365596999999999],\n",
       " [1509944160, 6239.2, 6249.75, 6249.75, 6239.2, 0.43721092999999994],\n",
       " [1509944100, 6209.5, 6254.77, 6254.77, 6250.24, 10.268649250000003],\n",
       " [1509944040, 6254.05, 6257.59, 6254.08, 6257.59, 0.64606822],\n",
       " [1509943980, 6254.35, 6267.75, 6260.42, 6254.35, 0.6695392700000001],\n",
       " [1509943920, 6257.47, 6269.26, 6260.3, 6257.47, 0.5188252499999999],\n",
       " [1509943860, 6258.22, 6260.3, 6260.3, 6258.22, 0.50636199],\n",
       " [1509943800, 6258.22, 6268.17, 6258.22, 6260.3, 0.4900000000000001],\n",
       " [1509943740, 6258.1, 6258.22, 6258.22, 6258.21, 0.91996546],\n",
       " [1509943680, 6258.21, 6260.47, 6260.47, 6258.21, 0.86341265],\n",
       " [1509943620, 6281.96, 6293.99, 6283.34, 6281.96, 2.34],\n",
       " [1509943560, 6260.7, 6290.16, 6260.7, 6290.16, 1.9210040899999998],\n",
       " [1509943500, 6242.81, 6279.97, 6242.81, 6260.69, 3.6399999999999992],\n",
       " [1509943440, 6237.4, 6242.82, 6237.4, 6242.79, 1.401203],\n",
       " [1509943380, 6217.91, 6237.52, 6224.99, 6229.66, 2.76816848],\n",
       " [1509943320, 6208.01, 6230.39, 6208.01, 6230.39, 1.7],\n",
       " [1509943260, 6205.02, 6208.01, 6205.03, 6208.01, 0.37000000000000005],\n",
       " [1509943200, 6205.01, 6207.51, 6205.02, 6205.04, 2.071071],\n",
       " [1509943140, 6205.01, 6205.03, 6205.01, 6205.03, 1.39191401],\n",
       " [1509943080, 6205.01, 6205.02, 6205.01, 6205.02, 2.46149748],\n",
       " [1509943020, 6205, 6208.03, 6208.03, 6205.02, 4.026927599999999],\n",
       " [1509942960, 6208.03, 6212.98, 6212.98, 6208.49, 1.87129527],\n",
       " [1509942900, 6210, 6217, 6217, 6213, 1.5694900100000007],\n",
       " [1509942840, 6219.9, 6226.57, 6219.91, 6219.9, 1.30209051],\n",
       " [1509942780, 6219.9, 6228.26, 6223.9, 6228.26, 0.31000000000000005],\n",
       " [1509942720, 6227.97, 6230.06, 6227.97, 6230.06, 0.20211551999999997],\n",
       " [1509942660, 6219.91, 6228.02, 6228.01, 6226.99, 0.10999999999999999],\n",
       " [1509942600, 6230.99, 6237.72, 6237.72, 6230.99, 0.8150000000000002],\n",
       " [1509942540, 6237.95, 6238.31, 6238.31, 6237.95, 0.03],\n",
       " [1509942480, 6217.07, 6248.83, 6247.01, 6246, 1.31228753],\n",
       " [1509942420, 6230.19, 6249.02, 6233.4, 6249.02, 0.351374],\n",
       " [1509942360, 6217.01, 6233.87, 6233.87, 6217.02, 0.6377166000000001],\n",
       " [1509942300, 6233.87, 6234.36, 6234.36, 6233.87, 0.54000461],\n",
       " [1509942240, 6234.36, 6243.19, 6243.19, 6234.36, 0.36096001000000005],\n",
       " [1509942180, 6234.51, 6250, 6236.23, 6250, 2.6775213499999992],\n",
       " [1509942120, 6247.45, 6247.45, 6247.45, 6247.45, 0.17137904],\n",
       " [1509942060, 6234.77, 6250, 6250, 6250, 1.27],\n",
       " [1509942000, 6241.39, 6250, 6241.39, 6250, 5.84057438],\n",
       " [1509941940, 6217.01, 6221.83, 6221.82, 6219.7, 2.623618419999999],\n",
       " [1509941880, 6217.95, 6223.1, 6223.1, 6222.96, 2.3399999999999994],\n",
       " [1509941820, 6217.01, 6223.58, 6223.53, 6223.04, 3.72286963],\n",
       " [1509941760, 6222.27, 6225.94, 6225.94, 6222.27, 1.8078370900000005],\n",
       " [1509941700, 6225.72, 6230.82, 6230.82, 6225.73, 0.6800000000000002],\n",
       " [1509941640, 6225.94, 6231.23, 6230.01, 6231.23, 2.9997599],\n",
       " [1509941580, 6230, 6231.24, 6231.23, 6231.23, 3.2177584399999986],\n",
       " [1509941520, 6230.23, 6240.4, 6235.04, 6231.23, 10.504232609999999],\n",
       " [1509941460, 6234.77, 6254.84, 6254.76, 6240.46, 3.68619564],\n",
       " [1509941400, 6250.07, 6268.28, 6268.28, 6250.07, 2.5713885399999996],\n",
       " [1509941340, 6250, 6258, 6258, 6250, 0.91768472],\n",
       " [1509941280, 6261.02, 6281.02, 6273.02, 6261.02, 1.38443515],\n",
       " [1509941220, 6273.02, 6274.56, 6274.56, 6273.02, 0.5574138],\n",
       " [1509941160, 6280.99, 6281.02, 6281.02, 6281.01, 1.4004169800000001],\n",
       " [1509941100, 6281.03, 6281.03, 6281.03, 6281.03, 0.52],\n",
       " [1509941040, 6281.02, 6295.89, 6295.89, 6281.03, 0.4],\n",
       " [1509940980, 6295.92, 6295.92, 6295.92, 6295.92, 0.03],\n",
       " [1509940920, 6295.76, 6296.02, 6296.01, 6295.92, 0.6000000000000001],\n",
       " [1509940860, 6296.13, 6296.13, 6296.13, 6296.13, 0.01],\n",
       " [1509940800, 6290.7, 6312.26, 6312.26, 6310.46, 0.6209404000000001],\n",
       " [1509940740, 6298.54, 6304.3, 6298.54, 6304.3, 0.06],\n",
       " [1509940680, 6291.82, 6291.82, 6291.82, 6291.82, 0.02],\n",
       " [1509940620, 6270.4, 6276.86, 6276.86, 6270.4, 0.19654755000000002],\n",
       " [1509940560, 6270.11, 6276.86, 6276.86, 6270.11, 0.18000000000000002],\n",
       " [1509940500, 6270.1, 6275.48, 6275.48, 6270.1, 2.3899999999999997],\n",
       " [1509940440, 6275.48, 6276.87, 6276.87, 6275.48, 0.0463225],\n",
       " [1509940320, 6270.11, 6279.65, 6279.2, 6279.65, 0.76496293],\n",
       " [1509940260, 6279.19, 6279.19, 6279.19, 6279.19, 0.36703617],\n",
       " [1509940200, 6279.18, 6281.5, 6281.5, 6279.19, 0.23808179999999998],\n",
       " [1509940140, 6283.39, 6283.45, 6283.45, 6283.39, 0.2003925],\n",
       " [1509940080, 6297.24, 6301.59, 6301.59, 6297.24, 1.07775931],\n",
       " [1509940020, 6302.18, 6302.27, 6302.27, 6302.22, 0.6625056300000001],\n",
       " [1509939960, 6271.98, 6311.88, 6271.98, 6311.79, 7.12031229],\n",
       " [1509939900, 6268.02, 6271.98, 6268.02, 6271.98, 5.225588760000002],\n",
       " [1509939840, 6268.01, 6268.02, 6268.01, 6268.02, 0.08942],\n",
       " [1509939780, 6264.27, 6269.99, 6264.27, 6269.99, 0.27546024],\n",
       " [1509939720, 6259.61, 6264.39, 6264.39, 6264.32, 0.22149934],\n",
       " [1509939660, 6265.1, 6268.18, 6268.18, 6265.1, 0.19711742],\n",
       " [1509939600, 6268.14, 6270, 6268.14, 6270, 0.53915977],\n",
       " [1509939540, 6234.64, 6315.44, 6315.44, 6268.14, 69.01522052000001],\n",
       " [1509939480, 6315.45, 6315.45, 6315.45, 6315.45, 0.00152892],\n",
       " [1509939420, 6315.45, 6326.27, 6326.06, 6315.45, 0.26231534],\n",
       " [1509939360, 6349.98, 6349.99, 6349.99, 6349.98, 2.29652048],\n",
       " [1509939240, 6349.99, 6350, 6350, 6350, 0.96395228],\n",
       " [1509939180, 6314.15, 6350, 6314.15, 6349.99, 1.7654457500000003],\n",
       " [1509939120, 6314.15, 6314.15, 6314.15, 6314.15, 3.0114267200000002],\n",
       " [1509939060, 6314.14, 6314.15, 6314.15, 6314.14, 3.00462474],\n",
       " [1509939000, 6314.15, 6314.15, 6314.15, 6314.15, 0.09],\n",
       " [1509938940, 6314.14, 6314.15, 6314.14, 6314.15, 2.00547997],\n",
       " [1509938880, 6314.15, 6314.15, 6314.15, 6314.15, 0.1],\n",
       " [1509938820, 6314.15, 6314.15, 6314.15, 6314.15, 0.03],\n",
       " [1509938760, 6314.15, 6314.15, 6314.15, 6314.15, 0.5],\n",
       " [1509938700, 6314.15, 6314.15, 6314.15, 6314.15, 0.6060672800000001],\n",
       " [1509938640, 6314.15, 6314.15, 6314.15, 6314.15, 0.1],\n",
       " [1509938580, 6314.15, 6314.15, 6314.15, 6314.15, 0.08],\n",
       " [1509938520, 6314.15, 6314.15, 6314.15, 6314.15, 0.01],\n",
       " [1509938460, 6314.14, 6314.15, 6314.15, 6314.14, 0.156],\n",
       " [1509938400, 6314.14, 6327.15, 6327.15, 6314.14, 3.924336249999999],\n",
       " [1509938340, 6320, 6344.98, 6344.98, 6320, 4.649413780000001],\n",
       " [1509938280, 6344.98, 6349.93, 6349.93, 6344.99, 0.16114996999999998],\n",
       " [1509938220, 6349.93, 6349.93, 6349.93, 6349.93, 0.41000000000000003],\n",
       " [1509938160, 6349.98, 6349.98, 6349.98, 6349.98, 0.08],\n",
       " [1509938040, 6350, 6350, 6350, 6350, 0.12724918999999998],\n",
       " [1509937980, 6344.99, 6350, 6349.91, 6350, 3.3248503499999993],\n",
       " [1509937920, 6349.99, 6350, 6350, 6349.99, 2.92015438],\n",
       " [1509937860, 6350, 6355, 6355, 6350, 1.81582558],\n",
       " [1509937800, 6355, 6368.57, 6368.57, 6355, 2.5365416099999996],\n",
       " [1509937740, 6370, 6380.01, 6380, 6370, 7.662913319999999],\n",
       " [1509937680, 6380, 6381.02, 6381.02, 6380, 0.9044344900000001]]"
      ]
     },
     "execution_count": 52,
     "metadata": {},
     "output_type": "execute_result"
    }
   ],
   "source": [
    "public_client.get_product_ticker(product_id='BTC-EUR')\n",
    "public_client.get_product_24hr_stats('ETH-EUR')\n",
    "public_client.get_product_historic_rates('ETH-EUR')\n",
    "public_client.get_product_historic_rates('BTC-EUR')"
   ]
  },
  {
   "cell_type": "code",
   "execution_count": 60,
   "metadata": {
    "collapsed": false,
    "deletable": true,
    "editable": true
   },
   "outputs": [
    {
     "data": {
      "text/plain": [
       "(109, 91)"
      ]
     },
     "execution_count": 60,
     "metadata": {},
     "output_type": "execute_result"
    }
   ],
   "source": []
  },
  {
   "cell_type": "code",
   "execution_count": null,
   "metadata": {
    "collapsed": true,
    "deletable": true,
    "editable": true
   },
   "outputs": [],
   "source": []
  },
  {
   "cell_type": "code",
   "execution_count": null,
   "metadata": {
    "collapsed": false,
    "deletable": true,
    "editable": true
   },
   "outputs": [],
   "source": [
    "data = pd.read_csv('/home/rkopeinig/Downloads/btc-eur-max.csv')\n",
    "data = data.set_index('snapped_at')"
   ]
  },
  {
   "cell_type": "code",
   "execution_count": 43,
   "metadata": {
    "collapsed": false,
    "deletable": true,
    "editable": true
   },
   "outputs": [
    {
     "name": "stdout",
     "output_type": "stream",
     "text": [
      "GDAX-EUR.pkl\n",
      "Loaded GDAX/EUR from cache\n"
     ]
    }
   ],
   "source": [
    "# Import dependencies\n",
    "import os, quandl, pickle\n",
    "import numpy as np\n",
    "import pandas as pd\n",
    "import matplotlib.pyplot as plt\n",
    "import statsmodels.api as sm\n",
    "\n",
    "# Firstly: Get data from Quandl\n",
    "# What is Quandl? It is a marketplace for financial, economic and alternative data \n",
    "# delivered in modern formats for today's analysts, including Python.\n",
    "\n",
    "def get_data(quandl_id):\n",
    "    '''Download and cache Quandl dataseries'''\n",
    "    cache_path = '{}.pkl'.format(quandl_id).replace('/','-')\n",
    "    print cache_path\n",
    "    try:\n",
    "        f = open(cache_path, 'rb')\n",
    "        df = pickle.load(f)   \n",
    "        print('Loaded {} from cache'.format(quandl_id))\n",
    "    except (OSError, IOError) as e:\n",
    "        print('Downloading {} from Quandl'.format(quandl_id))\n",
    "        df = quandl.get(quandl_id, returns=\"pandas\")\n",
    "        df.to_pickle(cache_path)\n",
    "        print('Cached {} at {}'.format(quandl_id, cache_path))\n",
    "    return df\n",
    "\n",
    "# Get Bitcoin Data\n",
    "data = get_data('GDAX/EUR')\n",
    "data = data['2017-09':'2017-09']\n",
    "data = data.drop('Volume', axis=1)"
   ]
  },
  {
   "cell_type": "code",
   "execution_count": 44,
   "metadata": {
    "collapsed": false,
    "deletable": true,
    "editable": true
   },
   "outputs": [],
   "source": [
    "def by_weekday(data):\n",
    "    df = data.groupby(data.index.dayofweek).mean()\n",
    "    df.index = ['Mon', 'Tues', 'Wed', 'Thurs', 'Fri', 'Sat', 'Sun']\n",
    "    return df"
   ]
  },
  {
   "cell_type": "code",
   "execution_count": 45,
   "metadata": {
    "collapsed": false,
    "deletable": true,
    "editable": true
   },
   "outputs": [
    {
     "data": {
      "image/png": "[encoded data removed]",
      "text/plain": [
       "<matplotlib.figure.Figure at 0x7fddd8d8f150>"
      ]
     },
     "metadata": {},
     "output_type": "display_data"
    }
   ],
   "source": [
    "_data = by_weekday(data)\n",
    "_data.plot(style=[':', '--', '-']);\n",
    "plt.show()"
   ]
  },
  {
   "cell_type": "code",
   "execution_count": 46,
   "metadata": {
    "collapsed": true,
    "deletable": true,
    "editable": true
   },
   "outputs": [],
   "source": [
    "#https://github.com/g07kore/PythonDataScienceHandbook/blob/master/notebooks/03.11-Working-with-Time-Series.ipynb"
   ]
  },
  {
   "cell_type": "code",
   "execution_count": 47,
   "metadata": {
    "collapsed": false,
    "deletable": true,
    "editable": true
   },
   "outputs": [
    {
     "ename": "NameError",
     "evalue": "name 'historic' is not defined",
     "output_type": "error",
     "traceback": [
      "\u001b[0;31m----------------------------------------------------------------------\u001b[0m",
      "\u001b[0;31mNameError\u001b[0m                            Traceback (most recent call last)",
      "\u001b[0;32m<ipython-input-47-f5e4a94770ed>\u001b[0m in \u001b[0;36m<module>\u001b[0;34m()\u001b[0m\n\u001b[0;32m----> 1\u001b[0;31m \u001b[0mhistoric\u001b[0m\u001b[0;34m[\u001b[0m\u001b[0;34m'low'\u001b[0m\u001b[0;34m]\u001b[0m\u001b[0;34m.\u001b[0m\u001b[0mplot\u001b[0m\u001b[0;34m(\u001b[0m\u001b[0;34m)\u001b[0m\u001b[0;34m\u001b[0m\u001b[0m\n\u001b[0m\u001b[1;32m      2\u001b[0m \u001b[0mplt\u001b[0m\u001b[0;34m.\u001b[0m\u001b[0mshow\u001b[0m\u001b[0;34m(\u001b[0m\u001b[0;34m)\u001b[0m\u001b[0;34m\u001b[0m\u001b[0m\n",
      "\u001b[0;31mNameError\u001b[0m: name 'historic' is not defined"
     ]
    }
   ],
   "source": [
    "historic['low'].plot()\n",
    "plt.show()"
   ]
  },
  {
   "cell_type": "code",
   "execution_count": 48,
   "metadata": {
    "collapsed": false,
    "deletable": true,
    "editable": true
   },
   "outputs": [
    {
     "name": "stdout",
     "output_type": "stream",
     "text": [
      "GDAX-EUR.pkl\n",
      "Loaded GDAX/EUR from cache\n"
     ]
    }
   ],
   "source": [
    "data = get_data('GDAX/EUR')\n",
    "data = data['2017-09':'2017-09']"
   ]
  },
  {
   "cell_type": "code",
   "execution_count": 49,
   "metadata": {
    "collapsed": false,
    "deletable": true,
    "editable": true
   },
   "outputs": [
    {
     "data": {
      "image/png": "[encoded data removed]",
      "text/plain": [
       "<matplotlib.figure.Figure at 0x7fdda4f16a50>"
      ]
     },
     "metadata": {},
     "output_type": "display_data"
    }
   ],
   "source": [
    "data['Volume'].plot()\n",
    "plt.show()"
   ]
  },
  {
   "cell_type": "code",
   "execution_count": 50,
   "metadata": {
    "collapsed": false,
    "deletable": true,
    "editable": true
   },
   "outputs": [
    {
     "data": {
      "image/png": "[encoded data removed]",
      "text/plain": [
       "<matplotlib.figure.Figure at 0x7fdda1509450>"
      ]
     },
     "metadata": {},
     "output_type": "display_data"
    }
   ],
   "source": [
    "data['High'].plot()\n",
    "plt.show()"
   ]
  },
  {
   "cell_type": "code",
   "execution_count": 51,
   "metadata": {
    "collapsed": true,
    "deletable": true,
    "editable": true
   },
   "outputs": [],
   "source": [
    "t = 3600*10"
   ]
  },
  {
   "cell_type": "code",
   "execution_count": 52,
   "metadata": {
    "collapsed": false,
    "deletable": true,
    "editable": true
   },
   "outputs": [
    {
     "data": {
      "text/plain": [
       "36000"
      ]
     },
     "execution_count": 52,
     "metadata": {},
     "output_type": "execute_result"
    }
   ],
   "source": [
    "t"
   ]
  },
  {
   "cell_type": "code",
   "execution_count": 53,
   "metadata": {
    "collapsed": false,
    "deletable": true,
    "editable": true
   },
   "outputs": [
    {
     "data": {
      "text/plain": [
       "{u'ask': u'258.97',\n",
       " u'bid': u'258.6',\n",
       " u'price': u'258.98000000',\n",
       " u'size': u'0.62250272',\n",
       " u'time': u'2017-11-01T17:23:59.996000Z',\n",
       " u'trade_id': 706263,\n",
       " u'volume': u'4007.41389586'}"
      ]
     },
     "execution_count": 53,
     "metadata": {},
     "output_type": "execute_result"
    }
   ],
   "source": [
    "#1hour = 3600 seconds\n",
    "public_client.get_product_ticker('ETH-EUR')"
   ]
  },
  {
   "cell_type": "code",
   "execution_count": 54,
   "metadata": {
    "collapsed": false,
    "deletable": true,
    "editable": true
   },
   "outputs": [
    {
     "data": {
      "text/html": [
       "<div>\n",
       "<table border=\"1\" class=\"dataframe\">\n",
       "  <thead>\n",
       "    <tr style=\"text-align: right;\">\n",
       "      <th></th>\n",
       "      <th>Value</th>\n",
       "    </tr>\n",
       "    <tr>\n",
       "      <th>Date</th>\n",
       "      <th></th>\n",
       "    </tr>\n",
       "  </thead>\n",
       "  <tbody>\n",
       "    <tr>\n",
       "      <th>1987-12-31</th>\n",
       "      <td>0.000000</td>\n",
       "    </tr>\n",
       "    <tr>\n",
       "      <th>1994-12-31</th>\n",
       "      <td>0.053172</td>\n",
       "    </tr>\n",
       "    <tr>\n",
       "      <th>1995-12-31</th>\n",
       "      <td>0.079483</td>\n",
       "    </tr>\n",
       "    <tr>\n",
       "      <th>1997-12-31</th>\n",
       "      <td>0.027091</td>\n",
       "    </tr>\n",
       "    <tr>\n",
       "      <th>2000-12-31</th>\n",
       "      <td>0.032046</td>\n",
       "    </tr>\n",
       "    <tr>\n",
       "      <th>2004-12-31</th>\n",
       "      <td>0.027785</td>\n",
       "    </tr>\n",
       "  </tbody>\n",
       "</table>\n",
       "</div>"
      ],
      "text/plain": [
       "               Value\n",
       "Date                \n",
       "1987-12-31  0.000000\n",
       "1994-12-31  0.053172\n",
       "1995-12-31  0.079483\n",
       "1997-12-31  0.027091\n",
       "2000-12-31  0.032046\n",
       "2004-12-31  0.027785"
      ]
     },
     "execution_count": 54,
     "metadata": {},
     "output_type": "execute_result"
    }
   ],
   "source": [
    "quandl.get(\"WPOV/AUT_SI_POV_NOP2\")"
   ]
  },
  {
   "cell_type": "code",
   "execution_count": null,
   "metadata": {
    "collapsed": true,
    "deletable": true,
    "editable": true
   },
   "outputs": [],
   "source": []
  },
  {
   "cell_type": "code",
   "execution_count": null,
   "metadata": {
    "collapsed": true,
    "deletable": true,
    "editable": true
   },
   "outputs": [],
   "source": []
  },
  {
   "cell_type": "code",
   "execution_count": 55,
   "metadata": {
    "collapsed": false,
    "deletable": true,
    "editable": true
   },
   "outputs": [
    {
     "name": "stdout",
     "output_type": "stream",
     "text": [
      "GDAX-EUR.pkl\n",
      "Loaded GDAX/EUR from cache\n"
     ]
    }
   ],
   "source": [
    "# expects Pandas.Series\n",
    "data = get_data('GDAX/EUR')\n",
    "data = data['2016']"
   ]
  },
  {
   "cell_type": "code",
   "execution_count": 56,
   "metadata": {
    "collapsed": false,
    "deletable": true,
    "editable": true
   },
   "outputs": [
    {
     "data": {
      "image/png": "[encoded data removed]",
      "text/plain": [
       "<matplotlib.figure.Figure at 0x7fdda136a910>"
      ]
     },
     "metadata": {},
     "output_type": "display_data"
    }
   ],
   "source": [
    "rolling = data['Volume'].rolling(36, center=True)\n",
    "\n",
    "data_ = pd.DataFrame({'input': data['Volume'],\n",
    "                     'one-year rolling_mean': rolling.mean(),\n",
    "                     'one-year rolling_std': rolling.std()})\n",
    "ax = data_.plot(style=['-', '--', ':'])\n",
    "ax.lines[0].set_alpha(data['Volume'].max())\n",
    "plt.show()"
   ]
  },
  {
   "cell_type": "code",
   "execution_count": 57,
   "metadata": {
    "collapsed": false,
    "deletable": true,
    "editable": true
   },
   "outputs": [
    {
     "name": "stdout",
     "output_type": "stream",
     "text": [
      "GDAX-EUR.pkl\n",
      "Loaded GDAX/EUR from cache\n"
     ]
    },
    {
     "ename": "NameError",
     "evalue": "name 'LinearRegression' is not defined",
     "output_type": "error",
     "traceback": [
      "\u001b[0;31m----------------------------------------------------------------------\u001b[0m",
      "\u001b[0;31mNameError\u001b[0m                            Traceback (most recent call last)",
      "\u001b[0;32m<ipython-input-57-c0608112f187>\u001b[0m in \u001b[0;36m<module>\u001b[0;34m()\u001b[0m\n\u001b[1;32m      6\u001b[0m \u001b[0my\u001b[0m \u001b[0;34m=\u001b[0m \u001b[0mdata\u001b[0m\u001b[0;34m[\u001b[0m\u001b[0;34m'Volume'\u001b[0m\u001b[0;34m]\u001b[0m\u001b[0;34m\u001b[0m\u001b[0m\n\u001b[1;32m      7\u001b[0m \u001b[0;34m\u001b[0m\u001b[0m\n\u001b[0;32m----> 8\u001b[0;31m \u001b[0mmodel\u001b[0m \u001b[0;34m=\u001b[0m \u001b[0mLinearRegression\u001b[0m\u001b[0;34m(\u001b[0m\u001b[0mfit_intercept\u001b[0m\u001b[0;34m=\u001b[0m\u001b[0mTrue\u001b[0m\u001b[0;34m)\u001b[0m\u001b[0;34m\u001b[0m\u001b[0m\n\u001b[0m\u001b[1;32m      9\u001b[0m \u001b[0mmodel\u001b[0m\u001b[0;34m.\u001b[0m\u001b[0mfit\u001b[0m\u001b[0;34m(\u001b[0m\u001b[0mX\u001b[0m\u001b[0;34m,\u001b[0m \u001b[0my\u001b[0m\u001b[0;34m)\u001b[0m\u001b[0;34m\u001b[0m\u001b[0m\n\u001b[1;32m     10\u001b[0m \u001b[0mdata\u001b[0m\u001b[0;34m[\u001b[0m\u001b[0;34m'predicted'\u001b[0m\u001b[0;34m]\u001b[0m \u001b[0;34m=\u001b[0m \u001b[0mmodel\u001b[0m\u001b[0;34m.\u001b[0m\u001b[0mpredict\u001b[0m\u001b[0;34m(\u001b[0m\u001b[0mX\u001b[0m\u001b[0;34m)\u001b[0m\u001b[0;34m\u001b[0m\u001b[0m\n",
      "\u001b[0;31mNameError\u001b[0m: name 'LinearRegression' is not defined"
     ]
    }
   ],
   "source": [
    "# Drop any rows with null values\n",
    "data = get_data('GDAX/EUR')\n",
    "data.dropna(axis=0, how='any', inplace=True)\n",
    "column_names = ['Open', 'High', 'Low', 'Volume']\n",
    "X = data[column_names]\n",
    "y = data['Volume']\n",
    "\n",
    "model = LinearRegression(fit_intercept=True)\n",
    "model.fit(X, y)\n",
    "data['predicted'] = model.predict(X)\n",
    "\n",
    "\n",
    "data[['Open', 'predicted']].plot(alpha=0.5);\n",
    "plt.show()\n"
   ]
  },
  {
   "cell_type": "code",
   "execution_count": 58,
   "metadata": {
    "collapsed": false,
    "deletable": true,
    "editable": true
   },
   "outputs": [
    {
     "name": "stdout",
     "output_type": "stream",
     "text": [
      "GDAX-EUR.pkl\n",
      "Loaded GDAX/EUR from cache\n"
     ]
    }
   ],
   "source": [
    "import pandas as pd\n",
    "import numpy as np\n",
    "from sklearn.decomposition import PCA\n",
    "\n",
    "data = get_data('GDAX/EUR')\n",
    "#del data['Volume']"
   ]
  },
  {
   "cell_type": "code",
   "execution_count": 59,
   "metadata": {
    "collapsed": false,
    "deletable": true,
    "editable": true
   },
   "outputs": [],
   "source": [
    "def principal_component_analysis(df):\n",
    "    return  pd.DataFrame(pca.transform(df), columns=['PCA of '+ i for i in data], index=df.index)"
   ]
  },
  {
   "cell_type": "code",
   "execution_count": 60,
   "metadata": {
    "collapsed": false,
    "deletable": true,
    "editable": true
   },
   "outputs": [
    {
     "ename": "NameError",
     "evalue": "global name 'pca' is not defined",
     "output_type": "error",
     "traceback": [
      "\u001b[0;31m----------------------------------------------------------------------\u001b[0m",
      "\u001b[0;31mNameError\u001b[0m                            Traceback (most recent call last)",
      "\u001b[0;32m<ipython-input-60-c4b297499a3e>\u001b[0m in \u001b[0;36m<module>\u001b[0;34m()\u001b[0m\n\u001b[0;32m----> 1\u001b[0;31m \u001b[0mdf\u001b[0m \u001b[0;34m=\u001b[0m \u001b[0mprincipal_component_analysis\u001b[0m\u001b[0;34m(\u001b[0m\u001b[0mdata\u001b[0m\u001b[0;34m)\u001b[0m\u001b[0;34m\u001b[0m\u001b[0m\n\u001b[0m\u001b[1;32m      2\u001b[0m \u001b[0;31m#df.plot()\u001b[0m\u001b[0;34m\u001b[0m\u001b[0;34m\u001b[0m\u001b[0m\n\u001b[1;32m      3\u001b[0m \u001b[0;31m#plt.show()\u001b[0m\u001b[0;34m\u001b[0m\u001b[0;34m\u001b[0m\u001b[0m\n\u001b[1;32m      4\u001b[0m \u001b[0;32mdel\u001b[0m \u001b[0mdf\u001b[0m\u001b[0;34m[\u001b[0m\u001b[0;34m'PCA of Volume'\u001b[0m\u001b[0;34m]\u001b[0m\u001b[0;34m\u001b[0m\u001b[0m\n\u001b[1;32m      5\u001b[0m \u001b[0;32mdel\u001b[0m \u001b[0mdf\u001b[0m\u001b[0;34m[\u001b[0m\u001b[0;34m'PCA of Low'\u001b[0m\u001b[0;34m]\u001b[0m\u001b[0;34m\u001b[0m\u001b[0m\n",
      "\u001b[0;32m<ipython-input-59-e394444b1ad4>\u001b[0m in \u001b[0;36mprincipal_component_analysis\u001b[0;34m(df)\u001b[0m\n\u001b[1;32m      1\u001b[0m \u001b[0;32mdef\u001b[0m \u001b[0mprincipal_component_analysis\u001b[0m\u001b[0;34m(\u001b[0m\u001b[0mdf\u001b[0m\u001b[0;34m)\u001b[0m\u001b[0;34m:\u001b[0m\u001b[0;34m\u001b[0m\u001b[0m\n\u001b[0;32m----> 2\u001b[0;31m     \u001b[0;32mreturn\u001b[0m  \u001b[0mpd\u001b[0m\u001b[0;34m.\u001b[0m\u001b[0mDataFrame\u001b[0m\u001b[0;34m(\u001b[0m\u001b[0mpca\u001b[0m\u001b[0;34m.\u001b[0m\u001b[0mtransform\u001b[0m\u001b[0;34m(\u001b[0m\u001b[0mdf\u001b[0m\u001b[0;34m)\u001b[0m\u001b[0;34m,\u001b[0m \u001b[0mcolumns\u001b[0m\u001b[0;34m=\u001b[0m\u001b[0;34m[\u001b[0m\u001b[0;34m'PCA of '\u001b[0m\u001b[0;34m+\u001b[0m \u001b[0mi\u001b[0m \u001b[0;32mfor\u001b[0m \u001b[0mi\u001b[0m \u001b[0;32min\u001b[0m \u001b[0mdata\u001b[0m\u001b[0;34m]\u001b[0m\u001b[0;34m,\u001b[0m \u001b[0mindex\u001b[0m\u001b[0;34m=\u001b[0m\u001b[0mdf\u001b[0m\u001b[0;34m.\u001b[0m\u001b[0mindex\u001b[0m\u001b[0;34m)\u001b[0m\u001b[0;34m\u001b[0m\u001b[0m\n\u001b[0m",
      "\u001b[0;31mNameError\u001b[0m: global name 'pca' is not defined"
     ]
    }
   ],
   "source": [
    "df = principal_component_analysis(data)\n",
    "#df.plot()\n",
    "#plt.show()\n",
    "del df['PCA of Volume']\n",
    "del df['PCA of Low']"
   ]
  },
  {
   "cell_type": "code",
   "execution_count": 61,
   "metadata": {
    "collapsed": false,
    "deletable": true,
    "editable": true
   },
   "outputs": [
    {
     "data": {
      "image/png": "[encoded data removed]",
      "text/plain": [
       "<matplotlib.figure.Figure at 0x7fdda1442990>"
      ]
     },
     "metadata": {},
     "output_type": "display_data"
    }
   ],
   "source": [
    "df.plot()\n",
    "plt.show()"
   ]
  },
  {
   "cell_type": "code",
   "execution_count": 62,
   "metadata": {
    "collapsed": false,
    "deletable": true,
    "editable": true
   },
   "outputs": [
    {
     "data": {
      "image/png": "[encoded data removed]",
      "text/plain": [
       "<matplotlib.figure.Figure at 0x7fdda141fe50>"
      ]
     },
     "metadata": {},
     "output_type": "display_data"
    }
   ],
   "source": [
    "del data['Volume']\n",
    "del data['Low']\n",
    "data.plot()\n",
    "plt.show()"
   ]
  },
  {
   "cell_type": "code",
   "execution_count": 63,
   "metadata": {
    "collapsed": false,
    "deletable": true,
    "editable": true
   },
   "outputs": [
    {
     "name": "stdout",
     "output_type": "stream",
     "text": [
      "GDAX-EUR.pkl\n",
      "Loaded GDAX/EUR from cache\n"
     ]
    },
    {
     "data": {
      "image/png": "[encoded data removed]",
      "text/plain": [
       "<matplotlib.figure.Figure at 0x7fdda145e750>"
      ]
     },
     "metadata": {},
     "output_type": "display_data"
    }
   ],
   "source": [
    "from pylab import rcParams\n",
    "data = get_data('GDAX/EUR')\n",
    "# CHIRPS Time-Series seasonal decomposition \n",
    "rcParams['figure.figsize'] = 8, 6\n",
    "dec_data = sm.tsa.seasonal_decompose(data['Volume'], model='additive', freq=30)\n",
    "dec_data.plot()\n",
    "plt.show()"
   ]
  },
  {
   "cell_type": "code",
   "execution_count": 64,
   "metadata": {
    "collapsed": true,
    "deletable": true,
    "editable": true
   },
   "outputs": [],
   "source": [
    "# Mann-Kendall test\n",
    "def mk_test(x, alpha = 0.05):  \n",
    "    #import dependencies for Mann-Kendall\n",
    "    import numpy as np  \n",
    "    from scipy.stats import norm, mstats\n",
    "    #alpha: significance level (0.05 default)\n",
    "    #trend: tells the trend (increasing, decreasing or no trend)\n",
    "    #h: True (if trend is present) or False (if trend is absence)\n",
    "    #p: p value of the significance test\n",
    "    #z: normalized test statistics \n",
    "    \n",
    "    n = len(x)\n",
    "\n",
    "    s = 0\n",
    "    for k in range(n-1):\n",
    "        for j in range(k+1,n):\n",
    "            s += np.sign(x[j] - x[k])\n",
    "\n",
    "    unique_x = np.unique(x)\n",
    "    g = len(unique_x)\n",
    "\n",
    "    if n == g: # no tie\n",
    "        var_s = (n*(n-1)*(2*n+5))/18\n",
    "    else: # some ties in data\n",
    "        tp = np.zeros(unique_x.shape)\n",
    "        for i in range(len(unique_x)):\n",
    "            tp[i] = sum(unique_x[i] == x)\n",
    "        var_s = (n*(n-1)*(2*n+5) + np.sum(tp*(tp-1)*(2*tp+5)))/18\n",
    "\n",
    "    if s>0:\n",
    "        z = (s - 1)/np.sqrt(var_s)\n",
    "    elif s == 0:\n",
    "            z = 0\n",
    "    elif s<0:\n",
    "        z = (s + 1)/np.sqrt(var_s)\n",
    "\n",
    "    p = 2*(1-norm.cdf(abs(z))) # two tail test\n",
    "    h = abs(z) > norm.ppf(1-alpha/2) \n",
    "\n",
    "    if (z<0) and h:\n",
    "        trend = 'decreasing'\n",
    "    elif (z>0) and h:\n",
    "        trend = 'increasing'\n",
    "    else:\n",
    "        trend = 'no trend'\n",
    "    return trend, h, p, z"
   ]
  },
  {
   "cell_type": "code",
   "execution_count": 65,
   "metadata": {
    "collapsed": false,
    "deletable": true,
    "editable": true
   },
   "outputs": [
    {
     "name": "stdout",
     "output_type": "stream",
     "text": [
      "increasing True\n",
      "8.82073428309 0.0\n"
     ]
    }
   ],
   "source": [
    "trend = dec_data.trend['2016-11':'2016-12']\n",
    "test_trend,h,p,z = mk_test(trend,alpha=0.05)  \n",
    "print test_trend, h  \n",
    "print z, p  "
   ]
  },
  {
   "cell_type": "code",
   "execution_count": 66,
   "metadata": {
    "collapsed": false,
    "deletable": true,
    "editable": true
   },
   "outputs": [],
   "source": [
    "alpha = 0.05\n",
    "dec_data = sm.tsa.seasonal_decompose(data['Open'], model='additive', freq=30)\n",
    "x = dec_data.trend['2015']"
   ]
  },
  {
   "cell_type": "code",
   "execution_count": 67,
   "metadata": {
    "collapsed": false,
    "deletable": true,
    "editable": true
   },
   "outputs": [
    {
     "name": "stdout",
     "output_type": "stream",
     "text": [
      "nan\n",
      "nan\n"
     ]
    }
   ],
   "source": [
    "n = len(x)\n",
    "\n",
    "# calculate S \n",
    "s = 0\n",
    "for k in range(n-1):\n",
    "    for j in range(k+1,n):\n",
    "        s += np.sign(x[j] - x[k])\n",
    "print s\n",
    "# calculate the unique data\n",
    "unique_x = np.unique(x)\n",
    "g = len(unique_x)\n",
    "\n",
    "# calculate the var(s)\n",
    "if n == g: # there is no tie\n",
    "    var_s = (n*(n-1)*(2*n+5))/18\n",
    "else: # there are some ties in data\n",
    "    tp = np.zeros(unique_x.shape)\n",
    "    for i in range(len(unique_x)):\n",
    "        tp[i] = sum(unique_x[i] == x)\n",
    "    var_s = (n*(n-1)*(2*n+5) + np.sum(tp*(tp-1)*(2*tp+5)))/18\n",
    "\n",
    "print s\n",
    "#if s>0:\n",
    "#    z = (s - 1)/np.sqrt(var_s)\n",
    "#elif s == 0:\n",
    "#    z = 0\n",
    "#elif s<0:\n",
    "#    z = (s + 1)/np.sqrt(var_s)\n",
    "\n",
    "# calculate the p_value\n",
    "#p = 2*(1-norm.cdf(abs(z))) # two tail test\n",
    "#h = abs(z) > norm.ppf(1-alpha/2) \n",
    "\n",
    "#if (z<0) and h:\n",
    "#    trend = 'decreasing'\n",
    "#elif (z>0) and h:\n",
    "#    trend = 'increasing'\n",
    "#else:\n",
    "#    trend = 'no trend'"
   ]
  },
  {
   "cell_type": "code",
   "execution_count": 68,
   "metadata": {
    "collapsed": false,
    "deletable": true,
    "editable": true
   },
   "outputs": [],
   "source": [
    "import pandas as pd\n",
    "import numpy as np\n",
    "from sklearn.decomposition import PCA\n",
    "def moving_average(data, window_size):\n",
    "    #data (pandas.Series): independent variable\n",
    "    window = np.ones(int(window_size))/float(window_size)\n",
    "    return np.convolve(data, window, 'same')"
   ]
  },
  {
   "cell_type": "code",
   "execution_count": 69,
   "metadata": {
    "collapsed": false,
    "deletable": true,
    "editable": true
   },
   "outputs": [
    {
     "data": {
      "text/plain": [
       "array([  106.01944444,   111.83111111,   117.69916667,   123.59111111,\n",
       "         129.64666667,   135.67833333,   141.75638889,   147.75638889,\n",
       "         153.79666667,   159.83722222,   165.85388889,   171.84833333,\n",
       "         177.77722222,   183.61555556,   189.30777778,   194.94055556,\n",
       "         200.5525    ,   206.11527778,   211.75083333,   211.54138889,\n",
       "         211.32055556,   210.9725    ,   210.63166667,   210.25166667,\n",
       "         210.28055556,   210.07305556,   209.77416667,   209.54361111,\n",
       "         209.36944444,   209.54222222,   209.64583333,   209.93944444,\n",
       "         210.1825    ,   210.40222222,   210.59416667,   210.87888889,\n",
       "         211.15194444,   211.30138889,   211.44638889,   211.60027778,\n",
       "         211.77027778,   212.03888889,   212.34      ,   212.92388889,\n",
       "         213.39472222,   213.74305556,   214.15138889,   214.63333333,\n",
       "         215.18583333,   216.15333333,   217.2225    ,   218.39972222,\n",
       "         219.56666667,   221.16138889,   222.86861111,   225.01305556,\n",
       "         226.77222222,   228.41666667,   230.0575    ,   231.57583333,\n",
       "         233.09722222,   234.55333333,   235.90722222,   237.31972222,\n",
       "         238.53833333,   239.37972222,   240.26444444,   241.46583333,\n",
       "         242.78      ,   244.18944444,   245.61166667,   246.98694444,\n",
       "         248.27388889,   249.63      ,   250.87444444,   251.97777778,\n",
       "         252.92055556,   253.77305556,   254.65444444,   255.24055556,\n",
       "         255.8175    ,   256.54027778,   256.92444444,   257.245     ,\n",
       "         257.49472222,   257.58444444,   257.59222222,   257.50305556,\n",
       "         257.48      ,   257.02555556,   256.25527778,   254.99638889,\n",
       "         254.00305556,   252.52055556,   251.06666667,   249.62666667,\n",
       "         248.06861111,   246.55388889,   244.59305556,   242.87      ,\n",
       "         241.36583333,   239.77916667,   238.53805556,   236.97805556,\n",
       "         235.2875    ,   233.61      ,   231.87722222,   230.1525    ,\n",
       "         228.44361111,   226.87638889,   225.49083333,   224.34027778,\n",
       "         223.15055556,   222.065     ,   220.74      ,   219.50083333,\n",
       "         218.39472222,   217.16444444,   216.09361111,   215.03944444,\n",
       "         214.04111111,   212.85666667,   211.83222222,   210.90861111,\n",
       "         209.92472222,   208.96972222,   208.04916667,   207.2725    ,\n",
       "         206.60722222,   206.68083333,   206.71638889,   206.86194444,\n",
       "         207.04111111,   207.40388889,   208.14277778,   208.57861111,\n",
       "         208.97666667,   209.40555556,   209.61305556,   209.83055556,\n",
       "         210.15361111,   210.54472222,   210.94722222,   211.27      ,\n",
       "         211.6425    ,   211.90638889,   212.14027778,   212.19861111,\n",
       "         212.35416667,   212.45555556,   212.74916667,   213.28083333,\n",
       "         213.94166667,   214.55972222,   215.33722222,   216.18638889,\n",
       "         217.01638889,   218.13833333,   219.34583333,   220.52527778,\n",
       "         221.87805556,   223.29611111,   225.04777778,   226.98166667,\n",
       "         229.22444444,   231.20027778,   233.10694444,   235.2525    ,\n",
       "         238.5525    ,   242.35138889,   245.35305556,   248.58138889,\n",
       "         252.30138889,   255.91638889,   259.39416667,   261.85194444,\n",
       "         263.66361111,   265.54611111,   267.92916667,   270.42      ,\n",
       "         272.72277778,   274.95916667,   277.42972222,   279.99333333,\n",
       "         282.32916667,   284.28555556,   286.41444444,   288.34138889,\n",
       "         290.12111111,   291.98      ,   293.75722222,   295.77083333,\n",
       "         298.29722222,   300.67972222,   303.04083333,   305.74333333,\n",
       "         307.92638889,   309.90527778,   311.70166667,   313.0725    ,\n",
       "         314.24166667,   315.82      ,   317.89083333,   319.91194444,\n",
       "         320.79444444,   321.39527778,   323.02444444,   324.36972222,\n",
       "         325.41      ,   326.79694444,   328.52472222,   331.32916667,\n",
       "         334.99694444,   338.60361111,   341.66555556,   344.14      ,\n",
       "         346.68611111,   349.43138889,   351.79944444,   354.41916667,\n",
       "         357.38277778,   359.60694444,   361.70555556,   363.90888889,\n",
       "         366.11166667,   368.48916667,   370.89194444,   373.25416667,\n",
       "         375.20972222,   376.89388889,   378.58055556,   380.00833333,\n",
       "         381.76305556,   383.69722222,   385.8875    ,   388.24833333,\n",
       "         390.35666667,   392.26      ,   393.81805556,   394.71527778,\n",
       "         395.6125    ,   394.37583333,   392.38111111,   391.56472222,\n",
       "         390.3575    ,   388.90527778,   387.17166667,   386.25527778,\n",
       "         384.45472222,   382.69138889,   381.12138889,   380.02861111,\n",
       "         379.07472222,   378.055     ,   376.66944444,   374.70222222,\n",
       "         372.91694444,   371.9275    ,   370.70666667,   369.53055556,\n",
       "         368.08166667,   366.54805556,   365.21138889,   363.47972222,\n",
       "         361.72583333,   360.00083333,   358.11944444,   356.14305556,\n",
       "         354.16472222,   352.13805556,   350.15333333,   348.32      ,\n",
       "         346.88027778,   345.46611111,   344.19805556,   343.66222222,\n",
       "         343.16777778,   344.52916667,   346.79666667,   347.94222222,\n",
       "         348.89333333,   349.79666667,   350.6975    ,   350.85583333,\n",
       "         352.11444444,   353.00333333,   353.98194444,   355.01861111,\n",
       "         355.82583333,   356.29972222,   356.9725    ,   357.44194444,\n",
       "         357.68916667,   358.4075    ,   359.4575    ,   360.38416667,\n",
       "         361.49055556,   362.61583333,   363.47277778,   364.48666667,\n",
       "         365.53222222,   366.69027778,   367.82194444,   368.60722222,\n",
       "         369.51722222,   370.52416667,   371.14972222,   371.72305556,\n",
       "         372.22361111,   372.46972222,   372.58083333,   372.55027778,\n",
       "         372.48194444,   372.41055556,   371.77944444,   371.02555556,\n",
       "         370.69138889,   370.44944444,   370.27194444,   370.00888889,\n",
       "         369.29833333,   368.7575    ,   368.07527778,   367.36888889,\n",
       "         366.79305556,   366.4825    ,   366.47166667,   366.97666667,\n",
       "         367.39722222,   367.71888889,   367.90527778,   368.06388889,\n",
       "         368.33583333,   368.50833333,   368.80888889,   369.06611111,\n",
       "         369.35472222,   369.84833333,   370.56305556,   371.68138889,\n",
       "         372.80111111,   374.02222222,   375.4       ,   376.12777778,\n",
       "         376.5325    ,   377.33833333,   378.04527778,   378.57555556,\n",
       "         378.88      ,   379.14361111,   379.75388889,   380.54833333,\n",
       "         381.35888889,   382.435     ,   383.37277778,   384.30666667,\n",
       "         385.1125    ,   385.87527778,   386.55083333,   387.39527778,\n",
       "         388.43222222,   389.50111111,   390.38083333,   391.25416667,\n",
       "         392.0625    ,   392.61194444,   392.97861111,   393.42222222,\n",
       "         393.745     ,   394.12111111,   394.60444444,   395.21388889,\n",
       "         395.76333333,   396.19361111,   396.95944444,   398.48972222,\n",
       "         400.02527778,   401.75611111,   403.43055556,   405.69055556,\n",
       "         408.30055556,   411.13027778,   413.81916667,   417.03472222,\n",
       "         420.24194444,   423.58722222,   426.86722222,   430.16833333,\n",
       "         433.52583333,   436.85138889,   442.27944444,   447.36194444,\n",
       "         453.00222222,   459.2       ,   465.62222222,   472.79      ,\n",
       "         480.29055556,   486.73361111,   490.75472222,   494.30388889,\n",
       "         496.88361111,   501.23666667,   506.64805556,   511.27444444,\n",
       "         516.18916667,   521.53527778,   526.24833333,   531.04833333,\n",
       "         536.47722222,   542.18555556,   546.70472222,   550.39333333,\n",
       "         554.43833333,   558.25611111,   560.67111111,   563.63777778,\n",
       "         565.87972222,   568.37194444,   571.05583333,   573.3125    ,\n",
       "         576.045     ,   578.42527778,   580.94944444,   583.52555556,\n",
       "         586.00361111,   588.33527778,   588.68416667,   589.27472222,\n",
       "         589.35805556,   588.64638889,   587.77611111,   586.08166667,\n",
       "         583.91527778,   582.62222222,   583.89666667,   585.62944444,\n",
       "         588.23222222,   585.36055556,   581.94777778,   580.38305556,\n",
       "         579.36361111,   577.98888889,   576.92861111,   575.64694444,\n",
       "         573.74277778,   571.30638889,   569.59277778,   567.3675    ,\n",
       "         564.59833333,   561.72111111,   560.23055556,   558.11694444,\n",
       "         556.53944444,   554.33805556,   552.26694444,   550.38888889,\n",
       "         548.26361111,   546.2575    ,   544.02333333,   541.54722222,\n",
       "         539.19305556,   536.60861111,   534.03583333,   531.51638889,\n",
       "         529.21222222,   527.08305556,   524.845     ,   522.63583333,\n",
       "         520.99388889,   519.78472222,   518.53583333,   517.30916667,\n",
       "         516.28      ,   519.3225    ,   521.93861111,   523.43388889,\n",
       "         523.77805556,   524.03      ,   524.55055556,   525.07611111,\n",
       "         525.45305556,   526.11611111,   526.6775    ,   527.85416667,\n",
       "         529.07111111,   530.28361111,   531.1475    ,   531.95416667,\n",
       "         532.92055556,   533.85472222,   534.52305556,   535.11944444,\n",
       "         535.80388889,   536.465     ,   537.19888889,   538.13944444,\n",
       "         539.03611111,   539.99472222,   540.89333333,   541.7625    ,\n",
       "         542.66777778,   543.68833333,   544.87722222,   546.01194444,\n",
       "         546.55222222,   546.87555556,   547.88583333,   548.81277778,\n",
       "         549.54361111,   550.26138889,   551.05277778,   551.66138889,\n",
       "         552.63944444,   553.31055556,   554.05527778,   554.93305556,\n",
       "         556.02472222,   557.42277778,   558.92638889,   560.38722222,\n",
       "         561.93944444,   563.98      ,   566.60833333,   569.30416667,\n",
       "         571.8525    ,   574.21416667,   577.055     ,   580.19777778,\n",
       "         582.00444444,   583.98444444,   586.27194444,   588.64777778,\n",
       "         591.00444444,   593.45833333,   596.16472222,   599.18916667,\n",
       "         602.10777778,   604.74444444,   606.93666667,   609.35833333,\n",
       "         611.98694444,   614.91805556,   617.66333333,   620.65944444,\n",
       "         624.00361111,   626.52055556,   629.33638889,   632.47583333,\n",
       "         635.77638889,   639.22805556,   642.61555556,   645.76      ,\n",
       "         648.775     ,   651.35194444,   653.85583333,   656.27194444,\n",
       "         659.03      ,   661.5175    ,   663.85694444,   666.3125    ,\n",
       "         668.25166667,   670.30722222,   672.10361111,   673.62861111,\n",
       "         676.64527778,   679.83305556,   682.64388889,   685.26777778,\n",
       "         687.89611111,   690.53166667,   693.00333333,   695.455     ,\n",
       "         698.08666667,   700.90472222,   704.39861111,   707.635     ,\n",
       "         710.99972222,   714.85722222,   718.89944444,   723.41138889,\n",
       "         726.52833333,   731.59638889,   736.40222222,   741.96388889,\n",
       "         747.80277778,   752.94916667,   758.81444444,   765.22805556,\n",
       "         772.30083333,   779.93027778,   788.15166667,   792.2275    ,\n",
       "         795.51166667,   797.39944444,   801.32555556,   804.70333333,\n",
       "         808.97777778,   809.89444444,   809.63833333,   810.2925    ,\n",
       "         811.72027778,   812.80333333,   814.26833333,   815.97638889,\n",
       "         817.93777778,   820.78333333,   823.62527778,   826.2       ,\n",
       "         828.66055556,   831.55055556,   833.4125    ,   835.215     ,\n",
       "         837.05138889,   838.5975    ,   839.54138889,   839.68333333,\n",
       "         841.00722222,   841.20416667,   842.22638889,   842.65555556,\n",
       "         843.19583333,   844.69111111,   845.49277778,   846.06333333,\n",
       "         846.33555556,   846.17833333,   843.17361111,   845.11527778,\n",
       "         848.53194444,   853.34055556,   855.40916667,   858.22861111,\n",
       "         861.03611111,   867.33388889,   875.07138889,   882.19777778,\n",
       "         888.27527778,   894.54888889,   901.18138889,   908.45888889,\n",
       "         915.94194444,   920.28      ,   926.52416667,   933.06      ,\n",
       "         940.71527778,   948.21361111,   957.35638889,   967.53666667,\n",
       "         976.47416667,   985.24277778,   994.55222222,  1002.01055556,\n",
       "        1008.29944444,  1014.1025    ,  1014.76916667,  1018.37888889,\n",
       "        1024.2225    ,  1030.58083333,  1037.04555556,  1039.83638889,\n",
       "        1041.03083333,  1038.39222222,  1038.2325    ,  1039.995     ,\n",
       "        1039.22222222,  1039.06944444,  1037.11277778,  1033.92305556,\n",
       "        1031.68194444,  1029.53194444,  1028.60611111,  1027.00027778,\n",
       "        1025.95194444,  1025.31194444,  1024.90333333,  1023.93138889,\n",
       "        1023.13333333,  1025.0975    ,  1024.73555556,  1024.38222222,\n",
       "        1024.08694444,  1023.73888889,  1022.48416667,  1020.89027778,\n",
       "        1020.25222222,  1019.34333333,  1016.04222222,  1015.22166667,\n",
       "        1014.84416667,  1015.85166667,  1021.38472222,  1023.53944444,\n",
       "        1023.29166667,  1023.03972222,  1022.47      ,  1025.48138889,\n",
       "        1029.65      ,  1037.87194444,  1046.2825    ,  1052.18472222,\n",
       "        1060.07138889,  1067.78583333,  1077.43138889,  1089.53888889,\n",
       "        1101.7375    ,  1114.24833333,  1125.46111111,  1137.95277778,\n",
       "        1150.77305556,  1163.31277778,  1175.73083333,  1190.07055556,\n",
       "        1204.52611111,  1220.22055556,  1232.97333333,  1244.57777778,\n",
       "        1259.02222222,  1271.51083333,  1283.70111111,  1296.22805556,\n",
       "        1309.67305556,  1325.0625    ,  1343.92722222,  1362.99      ,\n",
       "        1383.35055556,  1402.01166667,  1426.82277778,  1452.17722222,\n",
       "        1471.56611111,  1486.505     ,  1506.30444444,  1527.97416667,\n",
       "        1548.65305556,  1567.81972222,  1592.38194444,  1618.88305556,\n",
       "        1646.46805556,  1673.72027778,  1702.48027778,  1733.48083333,\n",
       "        1761.48      ,  1789.48833333,  1821.27333333,  1852.77777778,\n",
       "        1884.69333333,  1906.61      ,  1931.84944444,  1947.39444444,\n",
       "        1955.04722222,  1967.29      ,  1986.0175    ,  2006.35861111,\n",
       "        2023.02555556,  2043.95722222,  2065.6       ,  2086.12833333,\n",
       "        2107.78305556,  2123.22694444,  2134.71555556,  2140.96861111,\n",
       "        2147.05111111,  2158.10972222,  2163.90333333,  2167.42583333,\n",
       "        2174.32277778,  2185.38      ,  2194.36722222,  2203.22861111,\n",
       "        2213.00861111,  2224.95416667,  2228.11055556,  2229.12361111,\n",
       "        2230.00805556,  2225.38333333,  2217.96138889,  2206.66805556,\n",
       "        2198.795     ,  2186.27416667,  2164.78027778,  2138.00777778,\n",
       "        2112.79194444,  2103.61222222,  2091.28805556,  2087.52805556,\n",
       "        2098.67972222,  2104.72277778,  2108.415     ,  2112.32722222,\n",
       "        2109.19138889,  2103.34305556,  2098.80083333,  2097.44083333,\n",
       "        2093.56361111,  2092.39833333,  2096.4425    ,  2102.81972222,\n",
       "        2109.09888889,  2111.805     ,  2115.245     ,  2122.71      ,\n",
       "        2139.36527778,  2157.09333333,  2175.78305556,  2190.38166667,\n",
       "        2206.73083333,  2224.88111111,  2250.14527778,  2279.50055556,\n",
       "        2311.84722222,  2345.50583333,  2384.1425    ,  2429.39277778,\n",
       "        2467.51055556,  2510.18694444,  2559.24472222,  2609.76861111,\n",
       "        2648.55277778,  2691.78      ,  2736.22472222,  2782.32222222,\n",
       "        2820.23305556,  2857.90222222,  2892.29166667,  2927.59388889,\n",
       "        2974.30583333,  3023.12777778,  3072.09      ,  3114.75583333,\n",
       "        3158.92333333,  3196.1925    ,  3231.78972222,  3273.73555556,\n",
       "        3316.50277778,  3349.12694444,  3381.35472222,  3409.64611111,\n",
       "        3431.16777778,  3450.47333333,  3457.82861111,  3456.42416667,\n",
       "        3446.26111111,  3449.02833333,  3444.65555556,  3442.27722222,\n",
       "        3438.11055556,  3437.24777778,  3427.63888889,  3409.10388889,\n",
       "        3399.38138889,  3390.33666667,  3379.97      ,  3378.07833333,\n",
       "        3384.83888889,  3289.38944444,  3191.75027778,  3091.33361111,\n",
       "        2991.23861111,  2890.12027778,  2791.45361111,  2690.89805556,\n",
       "        2585.51611111,  2478.2775    ,  2369.16305556,  2263.27388889,\n",
       "        2156.32833333,  2057.72444444,  1957.8325    ,  1853.80277778,\n",
       "        1748.60833333,  1652.775     ])"
      ]
     },
     "execution_count": 69,
     "metadata": {},
     "output_type": "execute_result"
    }
   ],
   "source": [
    "moving_average(data['Low'], 36)"
   ]
  },
  {
   "cell_type": "code",
   "execution_count": 70,
   "metadata": {
    "collapsed": true,
    "deletable": true,
    "editable": true
   },
   "outputs": [],
   "source": [
    "def explain_anomalies(y, window_size, sigma=1.0):\n",
    "    avg = moving_average(y, window_size).tolist()\n",
    "    residual = y - avg\n",
    "    std = np.std(residual)\n",
    "    return {'standard_deviation': round(std, 3),\n",
    "            'anomalies_dict': collections.OrderedDict([(index, y_i) for\n",
    "                                                       index, y_i, avg_i in izip(count(), y, avg)\n",
    "              if (y_i > avg_i + (sigma*std)) | (y_i < avg_i - (sigma*std))])}"
   ]
  },
  {
   "cell_type": "code",
   "execution_count": 71,
   "metadata": {
    "collapsed": false,
    "deletable": true,
    "editable": true
   },
   "outputs": [
    {
     "data": {
      "text/plain": [
       "{'anomalies_dict': OrderedDict([(122, 1468.3067814799999),\n",
       "              (124, 1348.4987953899999),\n",
       "              (143, 1808.0030175500001),\n",
       "              (145, 1204.6335264700001),\n",
       "              (149, 1122.8298846800001),\n",
       "              (150, 1181.4899539400001),\n",
       "              (182, 7552.0932050700003),\n",
       "              (186, 1560.98619368),\n",
       "              (223, 1306.4607959800001),\n",
       "              (224, 2658.5209651800001),\n",
       "              (226, 2631.4250486999999),\n",
       "              (231, 2475.48327655),\n",
       "              (238, 1347.6126058899999),\n",
       "              (258, 2522.1944881700001),\n",
       "              (259, 1754.9477672200001),\n",
       "              (263, 1397.4864809200001),\n",
       "              (308, 1352.84219927),\n",
       "              (313, 3087.9887839200001),\n",
       "              (397, 1640.0267580499999),\n",
       "              (406, 1437.15622992),\n",
       "              (415, 1775.7597059499999),\n",
       "              (417, 1346.47346773),\n",
       "              (418, 1754.78887682),\n",
       "              (455, 1167.1512490499999),\n",
       "              (551, 1152.9075934800001),\n",
       "              (580, 1249.45968057),\n",
       "              (587, 1628.82551487),\n",
       "              (603, 279.37821509999998),\n",
       "              (608, 2653.04428504),\n",
       "              (614, 1924.01884094),\n",
       "              (615, 1701.6556014299999),\n",
       "              (643, 1704.48744566),\n",
       "              (666, 291.16645712000002),\n",
       "              (671, 2478.12703078),\n",
       "              (676, 1877.3211209200001),\n",
       "              (677, 2126.5353454900001),\n",
       "              (678, 2484.9100694200001),\n",
       "              (683, 1740.4369185600001),\n",
       "              (723, 2747.6830393599998),\n",
       "              (724, 1829.53633059),\n",
       "              (728, 2195.5626475499998),\n",
       "              (733, 698.75269274000004),\n",
       "              (734, 1167.6292533799999),\n",
       "              (737, 1053.15870819),\n",
       "              (739, 1097.55651315),\n",
       "              (740, 1175.43610704),\n",
       "              (741, 4685.5756018000002),\n",
       "              (744, 3770.0788506899999),\n",
       "              (745, 3424.5968710900001),\n",
       "              (746, 3226.1498783900001),\n",
       "              (750, 2917.9953202000002),\n",
       "              (752, 1208.53459877),\n",
       "              (753, 1260.77071497),\n",
       "              (754, 942.31500328000004),\n",
       "              (755, 1316.7104107299999),\n",
       "              (756, 2757.1753511699999),\n",
       "              (759, 1451.1126764400001),\n",
       "              (760, 1114.16532704),\n",
       "              (762, 2699.17083585),\n",
       "              (764, 2502.8073321400002),\n",
       "              (765, 4737.5172240700003),\n",
       "              (766, 2334.2526765799998),\n",
       "              (767, 964.83735831000001),\n",
       "              (768, 899.67731031000005),\n",
       "              (773, 719.31352980999998),\n",
       "              (774, 852.08171209),\n",
       "              (775, 809.50124900000003),\n",
       "              (777, 2097.6581545600002),\n",
       "              (779, 875.78117727999995),\n",
       "              (782, 739.28853253),\n",
       "              (786, 747.76200008000001),\n",
       "              (788, 594.18243113000005),\n",
       "              (789, 402.70871277999998),\n",
       "              (791, 1945.10102869),\n",
       "              (796, 2115.6440273100002),\n",
       "              (797, 2073.0909102700002),\n",
       "              (798, 2311.9740904599998),\n",
       "              (799, 1953.57399977),\n",
       "              (800, 3152.8621006200001),\n",
       "              (801, 2461.2109618),\n",
       "              (805, 2147.7875641199998),\n",
       "              (807, 962.05672575000006),\n",
       "              (809, 594.97955473000002),\n",
       "              (810, 164.71901034000001),\n",
       "              (811, 1069.6866633),\n",
       "              (814, 869.25752144),\n",
       "              (815, 1111.80435659),\n",
       "              (816, 2320.0449534099998),\n",
       "              (817, 842.95209780000005),\n",
       "              (824, 2153.39353084),\n",
       "              (825, 2813.9247154899999),\n",
       "              (826, 4136.8042936800002),\n",
       "              (828, 2594.0788131600002),\n",
       "              (830, 1128.9500228700001),\n",
       "              (831, 795.91959392000001),\n",
       "              (833, 2486.0183369400002),\n",
       "              (835, 1061.11950501),\n",
       "              (837, 563.07891360999997),\n",
       "              (838, 604.81380969999998),\n",
       "              (839, 1221.79952316),\n",
       "              (841, 1591.02550015),\n",
       "              (845, 1017.3749926),\n",
       "              (846, 3452.85629948),\n",
       "              (848, 3136.6786874300001),\n",
       "              (850, 2601.85543809),\n",
       "              (851, 918.60353521000002),\n",
       "              (852, 1010.58244182),\n",
       "              (853, 983.31453966000004),\n",
       "              (855, 3295.5627275299998),\n",
       "              (856, 4701.7460616199996),\n",
       "              (857, 7651.7041157800004),\n",
       "              (858, 2810.2179885999999),\n",
       "              (860, 2824.7405861399998),\n",
       "              (862, 913.20942445000003),\n",
       "              (863, 2219.5847416500001),\n",
       "              (866, 630.05316560999995),\n",
       "              (869, 2066.1026407899999)]),\n",
       " 'standard_deviation': 558.483}"
      ]
     },
     "execution_count": 71,
     "metadata": {},
     "output_type": "execute_result"
    }
   ],
   "source": [
    "explain_anomalies(data['Volume'], 36)"
   ]
  },
  {
   "cell_type": "code",
   "execution_count": 72,
   "metadata": {
    "collapsed": true,
    "deletable": true,
    "editable": true
   },
   "outputs": [],
   "source": [
    "def explain_anomalies_rolling_std(y, window_size, sigma=1.0):\n",
    "    import collections\n",
    "    from itertools import izip, count\n",
    "    avg = moving_average(y, window_size)\n",
    "    avg_list = avg.tolist()\n",
    "    residual = y - avg\n",
    "    \n",
    "    testing_std = pd.rolling_std(residual, window_size)\n",
    "    testing_std_as_df = pd.DataFrame(testing_std)\n",
    "    rolling_std = testing_std_as_df.replace(np.nan,\n",
    "                                  testing_std_as_df.ix[window_size - 1]).round(3).iloc[:,0].tolist()\n",
    "    std = np.std(residual)\n",
    "    return {'stationary standard_deviation': round(std, 3),\n",
    "            'anomalies_dict': collections.OrderedDict([(index, y_i)\n",
    "                                                       for index, y_i, avg_i, rs_i in izip(count(),\n",
    "                                                                                           y, avg_list, rolling_std)\n",
    "              if (y_i > avg_i + (sigma * rs_i)) | (y_i < avg_i - (sigma * rs_i))])}"
   ]
  },
  {
   "cell_type": "code",
   "execution_count": 80,
   "metadata": {
    "collapsed": false,
    "deletable": true,
    "editable": true
   },
   "outputs": [
    {
     "name": "stderr",
     "output_type": "stream",
     "text": [
      "/usr/local/lib/python2.7/dist-packages/ipykernel/__main__.py:8: FutureWarning: pd.rolling_std is deprecated for Series and will be removed in a future version, replace with \n",
      "\tSeries.rolling(window=36,center=False).std()\n"
     ]
    }
   ],
   "source": [
    "_anomalies=pd.DataFrame.from_dict(explain_anomalies_rolling_std(data['Volume'], 36))"
   ]
  },
  {
   "cell_type": "code",
   "execution_count": 81,
   "metadata": {
    "collapsed": false,
    "deletable": true,
    "editable": true
   },
   "outputs": [
    {
     "data": {
      "text/html": [
       "<div>\n",
       "<table border=\"1\" class=\"dataframe\">\n",
       "  <thead>\n",
       "    <tr style=\"text-align: right;\">\n",
       "      <th></th>\n",
       "      <th>anomalies_dict</th>\n",
       "      <th>stationary standard_deviation</th>\n",
       "    </tr>\n",
       "  </thead>\n",
       "  <tbody>\n",
       "    <tr>\n",
       "      <th>2</th>\n",
       "      <td>194.591400</td>\n",
       "      <td>558.483</td>\n",
       "    </tr>\n",
       "    <tr>\n",
       "      <th>3</th>\n",
       "      <td>303.478300</td>\n",
       "      <td>558.483</td>\n",
       "    </tr>\n",
       "    <tr>\n",
       "      <th>4</th>\n",
       "      <td>248.272970</td>\n",
       "      <td>558.483</td>\n",
       "    </tr>\n",
       "    <tr>\n",
       "      <th>5</th>\n",
       "      <td>235.076864</td>\n",
       "      <td>558.483</td>\n",
       "    </tr>\n",
       "    <tr>\n",
       "      <th>6</th>\n",
       "      <td>202.608405</td>\n",
       "      <td>558.483</td>\n",
       "    </tr>\n",
       "    <tr>\n",
       "      <th>14</th>\n",
       "      <td>46.710000</td>\n",
       "      <td>558.483</td>\n",
       "    </tr>\n",
       "    <tr>\n",
       "      <th>24</th>\n",
       "      <td>292.631880</td>\n",
       "      <td>558.483</td>\n",
       "    </tr>\n",
       "    <tr>\n",
       "      <th>25</th>\n",
       "      <td>207.940424</td>\n",
       "      <td>558.483</td>\n",
       "    </tr>\n",
       "    <tr>\n",
       "      <th>28</th>\n",
       "      <td>26.958656</td>\n",
       "      <td>558.483</td>\n",
       "    </tr>\n",
       "    <tr>\n",
       "      <th>29</th>\n",
       "      <td>63.252230</td>\n",
       "      <td>558.483</td>\n",
       "    </tr>\n",
       "    <tr>\n",
       "      <th>32</th>\n",
       "      <td>56.732290</td>\n",
       "      <td>558.483</td>\n",
       "    </tr>\n",
       "    <tr>\n",
       "      <th>36</th>\n",
       "      <td>27.740000</td>\n",
       "      <td>558.483</td>\n",
       "    </tr>\n",
       "    <tr>\n",
       "      <th>39</th>\n",
       "      <td>94.494620</td>\n",
       "      <td>558.483</td>\n",
       "    </tr>\n",
       "    <tr>\n",
       "      <th>42</th>\n",
       "      <td>61.489227</td>\n",
       "      <td>558.483</td>\n",
       "    </tr>\n",
       "    <tr>\n",
       "      <th>43</th>\n",
       "      <td>62.308113</td>\n",
       "      <td>558.483</td>\n",
       "    </tr>\n",
       "    <tr>\n",
       "      <th>44</th>\n",
       "      <td>285.948692</td>\n",
       "      <td>558.483</td>\n",
       "    </tr>\n",
       "    <tr>\n",
       "      <th>45</th>\n",
       "      <td>398.536106</td>\n",
       "      <td>558.483</td>\n",
       "    </tr>\n",
       "    <tr>\n",
       "      <th>46</th>\n",
       "      <td>435.714547</td>\n",
       "      <td>558.483</td>\n",
       "    </tr>\n",
       "    <tr>\n",
       "      <th>47</th>\n",
       "      <td>330.439335</td>\n",
       "      <td>558.483</td>\n",
       "    </tr>\n",
       "    <tr>\n",
       "      <th>50</th>\n",
       "      <td>96.836370</td>\n",
       "      <td>558.483</td>\n",
       "    </tr>\n",
       "    <tr>\n",
       "      <th>53</th>\n",
       "      <td>166.297882</td>\n",
       "      <td>558.483</td>\n",
       "    </tr>\n",
       "    <tr>\n",
       "      <th>54</th>\n",
       "      <td>199.017159</td>\n",
       "      <td>558.483</td>\n",
       "    </tr>\n",
       "    <tr>\n",
       "      <th>55</th>\n",
       "      <td>162.501676</td>\n",
       "      <td>558.483</td>\n",
       "    </tr>\n",
       "    <tr>\n",
       "      <th>57</th>\n",
       "      <td>229.177233</td>\n",
       "      <td>558.483</td>\n",
       "    </tr>\n",
       "    <tr>\n",
       "      <th>59</th>\n",
       "      <td>506.503542</td>\n",
       "      <td>558.483</td>\n",
       "    </tr>\n",
       "    <tr>\n",
       "      <th>60</th>\n",
       "      <td>604.865665</td>\n",
       "      <td>558.483</td>\n",
       "    </tr>\n",
       "    <tr>\n",
       "      <th>62</th>\n",
       "      <td>257.471160</td>\n",
       "      <td>558.483</td>\n",
       "    </tr>\n",
       "    <tr>\n",
       "      <th>63</th>\n",
       "      <td>127.633145</td>\n",
       "      <td>558.483</td>\n",
       "    </tr>\n",
       "    <tr>\n",
       "      <th>66</th>\n",
       "      <td>541.120187</td>\n",
       "      <td>558.483</td>\n",
       "    </tr>\n",
       "    <tr>\n",
       "      <th>67</th>\n",
       "      <td>508.909270</td>\n",
       "      <td>558.483</td>\n",
       "    </tr>\n",
       "    <tr>\n",
       "      <th>...</th>\n",
       "      <td>...</td>\n",
       "      <td>...</td>\n",
       "    </tr>\n",
       "    <tr>\n",
       "      <th>750</th>\n",
       "      <td>2917.995320</td>\n",
       "      <td>558.483</td>\n",
       "    </tr>\n",
       "    <tr>\n",
       "      <th>754</th>\n",
       "      <td>942.315003</td>\n",
       "      <td>558.483</td>\n",
       "    </tr>\n",
       "    <tr>\n",
       "      <th>765</th>\n",
       "      <td>4737.517224</td>\n",
       "      <td>558.483</td>\n",
       "    </tr>\n",
       "    <tr>\n",
       "      <th>788</th>\n",
       "      <td>594.182431</td>\n",
       "      <td>558.483</td>\n",
       "    </tr>\n",
       "    <tr>\n",
       "      <th>789</th>\n",
       "      <td>402.708713</td>\n",
       "      <td>558.483</td>\n",
       "    </tr>\n",
       "    <tr>\n",
       "      <th>796</th>\n",
       "      <td>2115.644027</td>\n",
       "      <td>558.483</td>\n",
       "    </tr>\n",
       "    <tr>\n",
       "      <th>797</th>\n",
       "      <td>2073.090910</td>\n",
       "      <td>558.483</td>\n",
       "    </tr>\n",
       "    <tr>\n",
       "      <th>798</th>\n",
       "      <td>2311.974090</td>\n",
       "      <td>558.483</td>\n",
       "    </tr>\n",
       "    <tr>\n",
       "      <th>800</th>\n",
       "      <td>3152.862101</td>\n",
       "      <td>558.483</td>\n",
       "    </tr>\n",
       "    <tr>\n",
       "      <th>801</th>\n",
       "      <td>2461.210962</td>\n",
       "      <td>558.483</td>\n",
       "    </tr>\n",
       "    <tr>\n",
       "      <th>805</th>\n",
       "      <td>2147.787564</td>\n",
       "      <td>558.483</td>\n",
       "    </tr>\n",
       "    <tr>\n",
       "      <th>809</th>\n",
       "      <td>594.979555</td>\n",
       "      <td>558.483</td>\n",
       "    </tr>\n",
       "    <tr>\n",
       "      <th>810</th>\n",
       "      <td>164.719010</td>\n",
       "      <td>558.483</td>\n",
       "    </tr>\n",
       "    <tr>\n",
       "      <th>814</th>\n",
       "      <td>869.257521</td>\n",
       "      <td>558.483</td>\n",
       "    </tr>\n",
       "    <tr>\n",
       "      <th>817</th>\n",
       "      <td>842.952098</td>\n",
       "      <td>558.483</td>\n",
       "    </tr>\n",
       "    <tr>\n",
       "      <th>825</th>\n",
       "      <td>2813.924715</td>\n",
       "      <td>558.483</td>\n",
       "    </tr>\n",
       "    <tr>\n",
       "      <th>826</th>\n",
       "      <td>4136.804294</td>\n",
       "      <td>558.483</td>\n",
       "    </tr>\n",
       "    <tr>\n",
       "      <th>828</th>\n",
       "      <td>2594.078813</td>\n",
       "      <td>558.483</td>\n",
       "    </tr>\n",
       "    <tr>\n",
       "      <th>831</th>\n",
       "      <td>795.919594</td>\n",
       "      <td>558.483</td>\n",
       "    </tr>\n",
       "    <tr>\n",
       "      <th>837</th>\n",
       "      <td>563.078914</td>\n",
       "      <td>558.483</td>\n",
       "    </tr>\n",
       "    <tr>\n",
       "      <th>838</th>\n",
       "      <td>604.813810</td>\n",
       "      <td>558.483</td>\n",
       "    </tr>\n",
       "    <tr>\n",
       "      <th>845</th>\n",
       "      <td>1017.374993</td>\n",
       "      <td>558.483</td>\n",
       "    </tr>\n",
       "    <tr>\n",
       "      <th>846</th>\n",
       "      <td>3452.856299</td>\n",
       "      <td>558.483</td>\n",
       "    </tr>\n",
       "    <tr>\n",
       "      <th>848</th>\n",
       "      <td>3136.678687</td>\n",
       "      <td>558.483</td>\n",
       "    </tr>\n",
       "    <tr>\n",
       "      <th>851</th>\n",
       "      <td>918.603535</td>\n",
       "      <td>558.483</td>\n",
       "    </tr>\n",
       "    <tr>\n",
       "      <th>852</th>\n",
       "      <td>1010.582442</td>\n",
       "      <td>558.483</td>\n",
       "    </tr>\n",
       "    <tr>\n",
       "      <th>853</th>\n",
       "      <td>983.314540</td>\n",
       "      <td>558.483</td>\n",
       "    </tr>\n",
       "    <tr>\n",
       "      <th>855</th>\n",
       "      <td>3295.562728</td>\n",
       "      <td>558.483</td>\n",
       "    </tr>\n",
       "    <tr>\n",
       "      <th>856</th>\n",
       "      <td>4701.746062</td>\n",
       "      <td>558.483</td>\n",
       "    </tr>\n",
       "    <tr>\n",
       "      <th>857</th>\n",
       "      <td>7651.704116</td>\n",
       "      <td>558.483</td>\n",
       "    </tr>\n",
       "  </tbody>\n",
       "</table>\n",
       "<p>232 rows × 2 columns</p>\n",
       "</div>"
      ],
      "text/plain": [
       "     anomalies_dict  stationary standard_deviation\n",
       "2        194.591400                        558.483\n",
       "3        303.478300                        558.483\n",
       "4        248.272970                        558.483\n",
       "5        235.076864                        558.483\n",
       "6        202.608405                        558.483\n",
       "14        46.710000                        558.483\n",
       "24       292.631880                        558.483\n",
       "25       207.940424                        558.483\n",
       "28        26.958656                        558.483\n",
       "29        63.252230                        558.483\n",
       "32        56.732290                        558.483\n",
       "36        27.740000                        558.483\n",
       "39        94.494620                        558.483\n",
       "42        61.489227                        558.483\n",
       "43        62.308113                        558.483\n",
       "44       285.948692                        558.483\n",
       "45       398.536106                        558.483\n",
       "46       435.714547                        558.483\n",
       "47       330.439335                        558.483\n",
       "50        96.836370                        558.483\n",
       "53       166.297882                        558.483\n",
       "54       199.017159                        558.483\n",
       "55       162.501676                        558.483\n",
       "57       229.177233                        558.483\n",
       "59       506.503542                        558.483\n",
       "60       604.865665                        558.483\n",
       "62       257.471160                        558.483\n",
       "63       127.633145                        558.483\n",
       "66       541.120187                        558.483\n",
       "67       508.909270                        558.483\n",
       "..              ...                            ...\n",
       "750     2917.995320                        558.483\n",
       "754      942.315003                        558.483\n",
       "765     4737.517224                        558.483\n",
       "788      594.182431                        558.483\n",
       "789      402.708713                        558.483\n",
       "796     2115.644027                        558.483\n",
       "797     2073.090910                        558.483\n",
       "798     2311.974090                        558.483\n",
       "800     3152.862101                        558.483\n",
       "801     2461.210962                        558.483\n",
       "805     2147.787564                        558.483\n",
       "809      594.979555                        558.483\n",
       "810      164.719010                        558.483\n",
       "814      869.257521                        558.483\n",
       "817      842.952098                        558.483\n",
       "825     2813.924715                        558.483\n",
       "826     4136.804294                        558.483\n",
       "828     2594.078813                        558.483\n",
       "831      795.919594                        558.483\n",
       "837      563.078914                        558.483\n",
       "838      604.813810                        558.483\n",
       "845     1017.374993                        558.483\n",
       "846     3452.856299                        558.483\n",
       "848     3136.678687                        558.483\n",
       "851      918.603535                        558.483\n",
       "852     1010.582442                        558.483\n",
       "853      983.314540                        558.483\n",
       "855     3295.562728                        558.483\n",
       "856     4701.746062                        558.483\n",
       "857     7651.704116                        558.483\n",
       "\n",
       "[232 rows x 2 columns]"
      ]
     },
     "execution_count": 81,
     "metadata": {},
     "output_type": "execute_result"
    }
   ],
   "source": [
    "_anomalies"
   ]
  },
  {
   "cell_type": "code",
   "execution_count": 74,
   "metadata": {
    "collapsed": false,
    "deletable": true,
    "editable": true
   },
   "outputs": [
    {
     "data": {
      "text/html": [
       "<div>\n",
       "<table border=\"1\" class=\"dataframe\">\n",
       "  <thead>\n",
       "    <tr style=\"text-align: right;\">\n",
       "      <th></th>\n",
       "      <th>Open</th>\n",
       "      <th>High</th>\n",
       "      <th>Low</th>\n",
       "      <th>Volume</th>\n",
       "    </tr>\n",
       "  </thead>\n",
       "  <tbody>\n",
       "    <tr>\n",
       "      <th>Open</th>\n",
       "      <td>1.000000</td>\n",
       "      <td>0.995631</td>\n",
       "      <td>0.998330</td>\n",
       "      <td>0.607493</td>\n",
       "    </tr>\n",
       "    <tr>\n",
       "      <th>High</th>\n",
       "      <td>0.995631</td>\n",
       "      <td>1.000000</td>\n",
       "      <td>0.994990</td>\n",
       "      <td>0.622841</td>\n",
       "    </tr>\n",
       "    <tr>\n",
       "      <th>Low</th>\n",
       "      <td>0.998330</td>\n",
       "      <td>0.994990</td>\n",
       "      <td>1.000000</td>\n",
       "      <td>0.587609</td>\n",
       "    </tr>\n",
       "    <tr>\n",
       "      <th>Volume</th>\n",
       "      <td>0.607493</td>\n",
       "      <td>0.622841</td>\n",
       "      <td>0.587609</td>\n",
       "      <td>1.000000</td>\n",
       "    </tr>\n",
       "  </tbody>\n",
       "</table>\n",
       "</div>"
      ],
      "text/plain": [
       "            Open      High       Low    Volume\n",
       "Open    1.000000  0.995631  0.998330  0.607493\n",
       "High    0.995631  1.000000  0.994990  0.622841\n",
       "Low     0.998330  0.994990  1.000000  0.587609\n",
       "Volume  0.607493  0.622841  0.587609  1.000000"
      ]
     },
     "execution_count": 74,
     "metadata": {},
     "output_type": "execute_result"
    }
   ],
   "source": [
    "data.corr(method='pearson')"
   ]
  },
  {
   "cell_type": "code",
   "execution_count": 75,
   "metadata": {
    "collapsed": false,
    "deletable": true,
    "editable": true
   },
   "outputs": [
    {
     "name": "stderr",
     "output_type": "stream",
     "text": [
      "/usr/local/lib/python2.7/dist-packages/ipykernel/__main__.py:8: FutureWarning: pd.ewm_mean is deprecated for Series and will be removed in a future version, replace with \n",
      "\tSeries.ewm(ignore_na=False,span=15,min_periods=0,adjust=True).mean()\n",
      "/usr/local/lib/python2.7/dist-packages/ipykernel/__main__.py:9: FutureWarning: pd.ewm_mean is deprecated for Series and will be removed in a future version, replace with \n",
      "\tSeries.ewm(ignore_na=False,span=15,min_periods=0,adjust=True).mean()\n"
     ]
    },
    {
     "data": {
      "image/png": "[encoded data removed]",
      "text/plain": [
       "<matplotlib.figure.Figure at 0x7fdda0f9ea10>"
      ]
     },
     "metadata": {},
     "output_type": "display_data"
    },
    {
     "data": {
      "image/png": "[encoded data removed]",
      "text/plain": [
       "<matplotlib.figure.Figure at 0x7fdda0fff810>"
      ]
     },
     "metadata": {},
     "output_type": "display_data"
    }
   ],
   "source": [
    "import pandas, numpy as np\n",
    "ewma = pandas.stats.moments.ewma\n",
    "\n",
    "# make a hat function, and add noise\n",
    "x=eth['low']\n",
    "\n",
    "# take EWMA in both directions with a smaller span term\n",
    "fwd = ewma( x, span=15 )          # take EWMA in fwd direction\n",
    "bwd = ewma( x[::-1], span=15 )    # take EWMA in bwd direction\n",
    "c = np.vstack(( fwd, bwd[::-1] )) # lump fwd and bwd together\n",
    "c = np.mean( c, axis=0 )          # average  \n",
    "\n",
    "# regular EWMA, with bias against trend\n",
    "pd.Series(x).plot()\n",
    "plt.show()\n",
    "# \"corrected\" (?) EWMA\n",
    "pd.Series(c, index=eth.index).plot()\n",
    "plt.show()\n"
   ]
  },
  {
   "cell_type": "code",
   "execution_count": 76,
   "metadata": {
    "collapsed": false,
    "deletable": true,
    "editable": true
   },
   "outputs": [
    {
     "data": {
      "image/png": "[encoded data removed]",
      "text/plain": [
       "<matplotlib.figure.Figure at 0x7fdda0f911d0>"
      ]
     },
     "metadata": {},
     "output_type": "display_data"
    }
   ],
   "source": [
    "eth['low'].plot()\n",
    "plt.show()"
   ]
  },
  {
   "cell_type": "code",
   "execution_count": null,
   "metadata": {
    "collapsed": true,
    "deletable": true,
    "editable": true
   },
   "outputs": [],
   "source": []
  },
  {
   "cell_type": "code",
   "execution_count": 39,
   "metadata": {
    "collapsed": false
   },
   "outputs": [
    {
     "data": {
      "image/png": "[encoded data removed]",
      "text/plain": [
       "<matplotlib.figure.Figure at 0x7fd11ced29d0>"
      ]
     },
     "metadata": {},
     "output_type": "display_data"
    }
   ],
   "source": [
    "eth['opening_price_log'] = np.log(eth['open'])\n",
    "eth['opening_price_log'].plot(kind = \"hist\", bins = 30)\n",
    "plt.show()"
   ]
  },
  {
   "cell_type": "code",
   "execution_count": 42,
   "metadata": {
    "collapsed": false
   },
   "outputs": [
    {
     "data": {
      "image/png": "[encoded data removed]",
      "text/plain": [
       "<matplotlib.figure.Figure at 0x7fd0e5ca7950>"
      ]
     },
     "metadata": {},
     "output_type": "display_data"
    }
   ],
   "source": [
    "eth['open'].plot()\n",
    "plt.show()"
   ]
  },
  {
   "cell_type": "code",
   "execution_count": 49,
   "metadata": {
    "collapsed": false
   },
   "outputs": [
    {
     "data": {
      "text/plain": [
       "<matplotlib.axes._subplots.AxesSubplot at 0x7fd11cafddd0>"
      ]
     },
     "execution_count": 49,
     "metadata": {},
     "output_type": "execute_result"
    }
   ],
   "source": [
    "model_mean_pred = eth.open.mean()\n",
    "eth[\"opening_price_mean\"] = np.exp(model_mean_pred)\n",
    "eth.plot(kind=\"line\", x=eth.index, y = [\"open\"])"
   ]
  },
  {
   "cell_type": "code",
   "execution_count": 50,
   "metadata": {
    "collapsed": false
   },
   "outputs": [
    {
     "data": {
      "image/png": "[encoded data removed]",
      "text/plain": [
       "<matplotlib.figure.Figure at 0x7fd11ccfe850>"
      ]
     },
     "metadata": {},
     "output_type": "display_data"
    }
   ],
   "source": [
    "plt.show()"
   ]
  },
  {
   "cell_type": "code",
   "execution_count": 53,
   "metadata": {
    "collapsed": false
   },
   "outputs": [
    {
     "ename": "KeyError",
     "evalue": "'Level time not found'",
     "output_type": "error",
     "traceback": [
      "\u001b[0;31m---------------------------------------------------------------------------\u001b[0m",
      "\u001b[0;31mKeyError\u001b[0m                                  Traceback (most recent call last)",
      "\u001b[0;32m<ipython-input-53-f788bd784f73>\u001b[0m in \u001b[0;36m<module>\u001b[0;34m()\u001b[0m\n\u001b[1;32m      1\u001b[0m piv = pd.pivot_table(eth, values = \"open\", \n\u001b[0;32m----> 2\u001b[0;31m                              columns = eth.index, index = eth.index)\n\u001b[0m",
      "\u001b[0;32m/home/rkopeinig/.local/lib/python2.7/site-packages/pandas/tools/pivot.pyc\u001b[0m in \u001b[0;36mpivot_table\u001b[0;34m(data, values, index, columns, aggfunc, fill_value, margins, dropna, margins_name)\u001b[0m\n\u001b[1;32m    131\u001b[0m         to_unstack = [agged.index.names[i] or i\n\u001b[1;32m    132\u001b[0m                       for i in range(len(index), len(keys))]\n\u001b[0;32m--> 133\u001b[0;31m         \u001b[0mtable\u001b[0m \u001b[0;34m=\u001b[0m \u001b[0magged\u001b[0m\u001b[0;34m.\u001b[0m\u001b[0munstack\u001b[0m\u001b[0;34m(\u001b[0m\u001b[0mto_unstack\u001b[0m\u001b[0;34m)\u001b[0m\u001b[0;34m\u001b[0m\u001b[0m\n\u001b[0m\u001b[1;32m    134\u001b[0m \u001b[0;34m\u001b[0m\u001b[0m\n\u001b[1;32m    135\u001b[0m     \u001b[0;32mif\u001b[0m \u001b[0;32mnot\u001b[0m \u001b[0mdropna\u001b[0m\u001b[0;34m:\u001b[0m\u001b[0;34m\u001b[0m\u001b[0m\n",
      "\u001b[0;32m/home/rkopeinig/.local/lib/python2.7/site-packages/pandas/core/frame.pyc\u001b[0m in \u001b[0;36munstack\u001b[0;34m(self, level, fill_value)\u001b[0m\n\u001b[1;32m   4034\u001b[0m         \"\"\"\n\u001b[1;32m   4035\u001b[0m         \u001b[0;32mfrom\u001b[0m \u001b[0mpandas\u001b[0m\u001b[0;34m.\u001b[0m\u001b[0mcore\u001b[0m\u001b[0;34m.\u001b[0m\u001b[0mreshape\u001b[0m \u001b[0;32mimport\u001b[0m \u001b[0munstack\u001b[0m\u001b[0;34m\u001b[0m\u001b[0m\n\u001b[0;32m-> 4036\u001b[0;31m         \u001b[0;32mreturn\u001b[0m \u001b[0munstack\u001b[0m\u001b[0;34m(\u001b[0m\u001b[0mself\u001b[0m\u001b[0;34m,\u001b[0m \u001b[0mlevel\u001b[0m\u001b[0;34m,\u001b[0m \u001b[0mfill_value\u001b[0m\u001b[0;34m)\u001b[0m\u001b[0;34m\u001b[0m\u001b[0m\n\u001b[0m\u001b[1;32m   4037\u001b[0m \u001b[0;34m\u001b[0m\u001b[0m\n\u001b[1;32m   4038\u001b[0m     \u001b[0;31m# ----------------------------------------------------------------------\u001b[0m\u001b[0;34m\u001b[0m\u001b[0;34m\u001b[0m\u001b[0m\n",
      "\u001b[0;32m/home/rkopeinig/.local/lib/python2.7/site-packages/pandas/core/reshape.pyc\u001b[0m in \u001b[0;36munstack\u001b[0;34m(obj, level, fill_value)\u001b[0m\n\u001b[1;32m    402\u001b[0m \u001b[0;32mdef\u001b[0m \u001b[0munstack\u001b[0m\u001b[0;34m(\u001b[0m\u001b[0mobj\u001b[0m\u001b[0;34m,\u001b[0m \u001b[0mlevel\u001b[0m\u001b[0;34m,\u001b[0m \u001b[0mfill_value\u001b[0m\u001b[0;34m=\u001b[0m\u001b[0mNone\u001b[0m\u001b[0;34m)\u001b[0m\u001b[0;34m:\u001b[0m\u001b[0;34m\u001b[0m\u001b[0m\n\u001b[1;32m    403\u001b[0m     \u001b[0;32mif\u001b[0m \u001b[0misinstance\u001b[0m\u001b[0;34m(\u001b[0m\u001b[0mlevel\u001b[0m\u001b[0;34m,\u001b[0m \u001b[0;34m(\u001b[0m\u001b[0mtuple\u001b[0m\u001b[0;34m,\u001b[0m \u001b[0mlist\u001b[0m\u001b[0;34m)\u001b[0m\u001b[0;34m)\u001b[0m\u001b[0;34m:\u001b[0m\u001b[0;34m\u001b[0m\u001b[0m\n\u001b[0;32m--> 404\u001b[0;31m         \u001b[0;32mreturn\u001b[0m \u001b[0m_unstack_multiple\u001b[0m\u001b[0;34m(\u001b[0m\u001b[0mobj\u001b[0m\u001b[0;34m,\u001b[0m \u001b[0mlevel\u001b[0m\u001b[0;34m)\u001b[0m\u001b[0;34m\u001b[0m\u001b[0m\n\u001b[0m\u001b[1;32m    405\u001b[0m \u001b[0;34m\u001b[0m\u001b[0m\n\u001b[1;32m    406\u001b[0m     \u001b[0;32mif\u001b[0m \u001b[0misinstance\u001b[0m\u001b[0;34m(\u001b[0m\u001b[0mobj\u001b[0m\u001b[0;34m,\u001b[0m \u001b[0mDataFrame\u001b[0m\u001b[0;34m)\u001b[0m\u001b[0;34m:\u001b[0m\u001b[0;34m\u001b[0m\u001b[0m\n",
      "\u001b[0;32m/home/rkopeinig/.local/lib/python2.7/site-packages/pandas/core/reshape.pyc\u001b[0m in \u001b[0;36m_unstack_multiple\u001b[0;34m(data, clocs)\u001b[0m\n\u001b[1;32m    254\u001b[0m     \u001b[0mindex\u001b[0m \u001b[0;34m=\u001b[0m \u001b[0mdata\u001b[0m\u001b[0;34m.\u001b[0m\u001b[0mindex\u001b[0m\u001b[0;34m\u001b[0m\u001b[0m\n\u001b[1;32m    255\u001b[0m \u001b[0;34m\u001b[0m\u001b[0m\n\u001b[0;32m--> 256\u001b[0;31m     \u001b[0mclocs\u001b[0m \u001b[0;34m=\u001b[0m \u001b[0;34m[\u001b[0m\u001b[0mindex\u001b[0m\u001b[0;34m.\u001b[0m\u001b[0m_get_level_number\u001b[0m\u001b[0;34m(\u001b[0m\u001b[0mi\u001b[0m\u001b[0;34m)\u001b[0m \u001b[0;32mfor\u001b[0m \u001b[0mi\u001b[0m \u001b[0;32min\u001b[0m \u001b[0mclocs\u001b[0m\u001b[0;34m]\u001b[0m\u001b[0;34m\u001b[0m\u001b[0m\n\u001b[0m\u001b[1;32m    257\u001b[0m \u001b[0;34m\u001b[0m\u001b[0m\n\u001b[1;32m    258\u001b[0m     \u001b[0mrlocs\u001b[0m \u001b[0;34m=\u001b[0m \u001b[0;34m[\u001b[0m\u001b[0mi\u001b[0m \u001b[0;32mfor\u001b[0m \u001b[0mi\u001b[0m \u001b[0;32min\u001b[0m \u001b[0mrange\u001b[0m\u001b[0;34m(\u001b[0m\u001b[0mindex\u001b[0m\u001b[0;34m.\u001b[0m\u001b[0mnlevels\u001b[0m\u001b[0;34m)\u001b[0m \u001b[0;32mif\u001b[0m \u001b[0mi\u001b[0m \u001b[0;32mnot\u001b[0m \u001b[0;32min\u001b[0m \u001b[0mclocs\u001b[0m\u001b[0;34m]\u001b[0m\u001b[0;34m\u001b[0m\u001b[0m\n",
      "\u001b[0;32m/home/rkopeinig/.local/lib/python2.7/site-packages/pandas/indexes/multi.pyc\u001b[0m in \u001b[0;36m_get_level_number\u001b[0;34m(self, level)\u001b[0m\n\u001b[1;32m    593\u001b[0m         \u001b[0;32mexcept\u001b[0m \u001b[0mValueError\u001b[0m\u001b[0;34m:\u001b[0m\u001b[0;34m\u001b[0m\u001b[0m\n\u001b[1;32m    594\u001b[0m             \u001b[0;32mif\u001b[0m \u001b[0;32mnot\u001b[0m \u001b[0misinstance\u001b[0m\u001b[0;34m(\u001b[0m\u001b[0mlevel\u001b[0m\u001b[0;34m,\u001b[0m \u001b[0mint\u001b[0m\u001b[0;34m)\u001b[0m\u001b[0;34m:\u001b[0m\u001b[0;34m\u001b[0m\u001b[0m\n\u001b[0;32m--> 595\u001b[0;31m                 \u001b[0;32mraise\u001b[0m \u001b[0mKeyError\u001b[0m\u001b[0;34m(\u001b[0m\u001b[0;34m'Level %s not found'\u001b[0m \u001b[0;34m%\u001b[0m \u001b[0mstr\u001b[0m\u001b[0;34m(\u001b[0m\u001b[0mlevel\u001b[0m\u001b[0;34m)\u001b[0m\u001b[0;34m)\u001b[0m\u001b[0;34m\u001b[0m\u001b[0m\n\u001b[0m\u001b[1;32m    596\u001b[0m             \u001b[0;32melif\u001b[0m \u001b[0mlevel\u001b[0m \u001b[0;34m<\u001b[0m \u001b[0;36m0\u001b[0m\u001b[0;34m:\u001b[0m\u001b[0;34m\u001b[0m\u001b[0m\n\u001b[1;32m    597\u001b[0m                 \u001b[0mlevel\u001b[0m \u001b[0;34m+=\u001b[0m \u001b[0mself\u001b[0m\u001b[0;34m.\u001b[0m\u001b[0mnlevels\u001b[0m\u001b[0;34m\u001b[0m\u001b[0m\n",
      "\u001b[0;31mKeyError\u001b[0m: 'Level time not found'"
     ]
    }
   ],
   "source": [
    "piv = pd.pivot_table(eth, values = \"open\", \n",
    "                             columns = eth.index, index = eth.index)"
   ]
  },
  {
   "cell_type": "code",
   "execution_count": 54,
   "metadata": {
    "collapsed": false
   },
   "outputs": [
    {
     "data": {
      "image/png": "[encoded data removed]",
      "text/plain": [
       "<matplotlib.figure.Figure at 0x7fd0e5a25b50>"
      ]
     },
     "metadata": {},
     "output_type": "display_data"
    }
   ],
   "source": [
    "piv.plot()\n",
    "plt.show()"
   ]
  },
  {
   "cell_type": "code",
   "execution_count": null,
   "metadata": {
    "collapsed": true
   },
   "outputs": [],
   "source": []
  }
 ],
 "metadata": {
  "kernelspec": {
   "display_name": "Python 2",
   "language": "python",
   "name": "python2"
  },
  "language_info": {
   "codemirror_mode": {
    "name": "ipython",
    "version": 2
   },
   "file_extension": ".py",
   "mimetype": "text/x-python",
   "name": "python",
   "nbconvert_exporter": "python",
   "pygments_lexer": "ipython2",
   "version": "2.7.12"
  }
 },
 "nbformat": 4,
 "nbformat_minor": 2
}
