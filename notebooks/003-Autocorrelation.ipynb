{
 "cells": [
  {
   "cell_type": "code",
   "execution_count": 1,
   "metadata": {
    "collapsed": true
   },
   "outputs": [],
   "source": [
    "# author: René Kopeinig\n",
    "# script: Autocorrelation on cryptocurrency data\n",
    "# description: Compare autocorrelated Time-Series data of crypto currencies from Quandl."
   ]
  },
  {
   "cell_type": "code",
   "execution_count": 2,
   "metadata": {
    "collapsed": true
   },
   "outputs": [],
   "source": [
    "# Add IPython-specific directive to display plots directly below the notebook cell\n",
    "%matplotlib inline"
   ]
  },
  {
   "cell_type": "code",
   "execution_count": 20,
   "metadata": {},
   "outputs": [],
   "source": [
    "# Import dependencies\n",
    "import os\n",
    "import numpy as np\n",
    "import pandas as pd\n",
    "import matplotlib.pyplot as plt\n",
    "import statsmodels.api as sm"
   ]
  },
  {
   "cell_type": "code",
   "execution_count": 32,
   "metadata": {},
   "outputs": [],
   "source": [
    "# Load BTC data \n",
    "btc = pd.read_csv('/home/rkopeinig/workspace/Time-Series-Analysis/data/btc.csv')\n",
    "btc['date'] = pd.to_datetime(btc['date'])\n",
    "btc = btc.set_index('date')\n",
    "\n",
    "# Load ETH data \n",
    "eth = pd.read_csv('/home/rkopeinig/workspace/Time-Series-Analysis/data/eth.csv')\n",
    "eth['date'] = pd.to_datetime(eth['date'])\n",
    "eth = eth.set_index('date')\n",
    "\n",
    "# Load LTC data \n",
    "ltc = pd.read_csv('/home/rkopeinig/workspace/Time-Series-Analysis/data/ltc.csv')\n",
    "ltc['date'] = pd.to_datetime(ltc['date'])\n",
    "ltc = ltc.set_index('date')"
   ]
  },
  {
   "cell_type": "code",
   "execution_count": 33,
   "metadata": {},
   "outputs": [],
   "source": [
    "# Setting up dates\n",
    "btc = btc['2017-08-20':'2017-09-20']\n",
    "eth = eth['2017-08-20':'2017-09-20']\n",
    "ltc = ltc['2017-08-20':'2017-09-20']"
   ]
  },
  {
   "cell_type": "code",
   "execution_count": 34,
   "metadata": {},
   "outputs": [],
   "source": [
    "def auto_correlation(series):\n",
    "    from statsmodels.tsa.stattools import acf, pacf\n",
    "    x=series.values\n",
    "    _acf = pd.Series(acf(x))\n",
    "    _acf.index+=1\n",
    "    return _acf"
   ]
  },
  {
   "cell_type": "code",
   "execution_count": 35,
   "metadata": {},
   "outputs": [],
   "source": [
    "# Calculate autocorrelation and transform result to Pandas Dataframe\n",
    "ether = auto_correlation(eth['price'])\n",
    "bitcoin = auto_correlation(btc['price'])\n",
    "litecoin = auto_correlation(ltc['price'])"
   ]
  },
  {
   "cell_type": "code",
   "execution_count": 43,
   "metadata": {},
   "outputs": [
    {
     "data": {
      "text/plain": [
       "<matplotlib.axes._subplots.AxesSubplot at 0x7f30e499b4a8>"
      ]
     },
     "execution_count": 43,
     "metadata": {},
     "output_type": "execute_result"
    },
    {
     "data": {
      "image/png": "[encoded data removed]",
      "text/plain": [
       "<Figure size 432x288 with 1 Axes>"
      ]
     },
     "metadata": {},
     "output_type": "display_data"
    }
   ],
   "source": [
    "ether.plot(kind='bar', color='green')"
   ]
  },
  {
   "cell_type": "code",
   "execution_count": 41,
   "metadata": {},
   "outputs": [
    {
     "data": {
      "text/plain": [
       "<matplotlib.axes._subplots.AxesSubplot at 0x7f30e49a4550>"
      ]
     },
     "execution_count": 41,
     "metadata": {},
     "output_type": "execute_result"
    },
    {
     "data": {
      "image/png": "[encoded data removed]",
      "text/plain": [
       "<Figure size 432x288 with 1 Axes>"
      ]
     },
     "metadata": {},
     "output_type": "display_data"
    }
   ],
   "source": [
    "litecoin.plot(kind='bar', color='green')"
   ]
  },
  {
   "cell_type": "code",
   "execution_count": 42,
   "metadata": {},
   "outputs": [
    {
     "data": {
      "text/plain": [
       "<matplotlib.axes._subplots.AxesSubplot at 0x7f30e46c4828>"
      ]
     },
     "execution_count": 42,
     "metadata": {},
     "output_type": "execute_result"
    },
    {
     "data": {
      "image/png": "[encoded data removed]",
      "text/plain": [
       "<Figure size 432x288 with 1 Axes>"
      ]
     },
     "metadata": {},
     "output_type": "display_data"
    }
   ],
   "source": [
    "bitcoin.plot(kind='bar', color='green')"
   ]
  }
 ],
 "metadata": {
  "kernelspec": {
   "display_name": "Python 2",
   "language": "python",
   "name": "python2"
  },
  "language_info": {
   "codemirror_mode": {
    "name": "ipython",
    "version": 3
   },
   "file_extension": ".py",
   "mimetype": "text/x-python",
   "name": "python",
   "nbconvert_exporter": "python",
   "pygments_lexer": "ipython3",
   "version": "3.6.3"
  }
 },
 "nbformat": 4,
 "nbformat_minor": 2
}
